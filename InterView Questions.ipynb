{
 "cells": [
  {
   "cell_type": "markdown",
   "metadata": {
    "application/vnd.databricks.v1+cell": {
     "cellMetadata": {},
     "inputWidgets": {},
     "nuid": "023f7a46-d3bc-405b-b8a8-6402e9fcbe05",
     "showTitle": false,
     "tableResultSettingsMap": {},
     "title": ""
    }
   },
   "source": [
    " QNo.1) We have a table in which we have category, product and sales can you write a query to find the second most popular product in each category based on sales."
   ]
  },
  {
   "cell_type": "code",
   "execution_count": 0,
   "metadata": {
    "application/vnd.databricks.v1+cell": {
     "cellMetadata": {
      "byteLimit": 2048000,
      "rowLimit": 10000
     },
     "inputWidgets": {},
     "nuid": "765aa2cf-6746-44bc-8921-f51aef4484b6",
     "showTitle": false,
     "tableResultSettingsMap": {},
     "title": ""
    }
   },
   "outputs": [
    {
     "output_type": "stream",
     "name": "stdout",
     "output_type": "stream",
     "text": [
      "+-----------+-------+-----+----+\n|   Category|Product|Sales|rank|\n+-----------+-------+-----+----+\n|Electronics| Laptop| 5000|   2|\n|  Furniture|   Sofa| 2500|   2|\n+-----------+-------+-----+----+\n\n+-----------+-------+-----+\n|   Category|Product|Sales|\n+-----------+-------+-----+\n|Electronics| Laptop| 5000|\n|  Furniture|   Sofa| 2500|\n+-----------+-------+-----+\n\n"
     ]
    }
   ],
   "source": [
    "from pyspark.sql import SparkSession\n",
    "from pyspark.sql import functions as F\n",
    "from pyspark.sql.window import Window\n",
    "\n",
    "# Initializing SparkSession\n",
    "spark = SparkSession.builder.appName(\"SecondMostPopularProduct\").getOrCreate()\n",
    "\n",
    "data = [\n",
    "    (\"Electronics\", \"Laptop\", 5000),\n",
    "    (\"Electronics\", \"Smartphone\", 7000),\n",
    "    (\"Electronics\", \"Tablet\", 4000),\n",
    "    (\"Furniture\", \"Chair\", 2000),\n",
    "    (\"Furniture\", \"Table\", 3000),\n",
    "    (\"Furniture\", \"Sofa\", 2500),\n",
    "]\n",
    "\n",
    "# Definining schema and creating DataFrame\n",
    "columns = [\"Category\", \"Product\", \"Sales\"]\n",
    "df = spark.createDataFrame(data, columns)\n",
    "\n",
    "# Defining a window specification\n",
    "window_spec = Window.partitionBy(\"Category\").orderBy(F.desc(\"Sales\"))\n",
    "\n",
    "# Adding rank column\n",
    "ranked_df = df.withColumn(\"rank\", F.dense_rank().over(window_spec))\n",
    "\n",
    "# Filtering to get the second most popular product in each category\n",
    "second_most_popular_df = ranked_df.filter(F.col(\"rank\") == 2)\n",
    "\n",
    "second_most_popular_df.show()\n",
    "\n",
    "# Registering the DataFrame as a temporary SQL table\n",
    "df.createOrReplaceTempView(\"products\")\n",
    "\n",
    "# Writing the SQL query\n",
    "query = \"\"\"\n",
    "    SELECT Category, Product, Sales\n",
    "    FROM (\n",
    "        SELECT \n",
    "            Category,\n",
    "            Product,\n",
    "            Sales,\n",
    "            DENSE_RANK() OVER (PARTITION BY Category ORDER BY Sales DESC) AS rank\n",
    "        FROM products\n",
    "    ) ranked\n",
    "    WHERE rank = 2\n",
    "\"\"\"\n",
    "\n",
    "# Executing the query\n",
    "second_most_popular_df = spark.sql(query)\n",
    "\n",
    "# Displaying the results\n",
    "second_most_popular_df.show()"
   ]
  },
  {
   "cell_type": "markdown",
   "metadata": {
    "application/vnd.databricks.v1+cell": {
     "cellMetadata": {},
     "inputWidgets": {},
     "nuid": "49330be2-c3f5-4b93-89d4-d178b78adf43",
     "showTitle": false,
     "tableResultSettingsMap": {},
     "title": ""
    }
   },
   "source": [
    "QNo.2) Given a DataFrame with columns name, age, department, write a \n",
    "PySpark code to count the number of employees in each department and sort the \n",
    "results in descending order of count."
   ]
  },
  {
   "cell_type": "code",
   "execution_count": 0,
   "metadata": {
    "application/vnd.databricks.v1+cell": {
     "cellMetadata": {
      "byteLimit": 2048000,
      "rowLimit": 10000
     },
     "inputWidgets": {},
     "nuid": "7f250239-3673-4208-b828-12c4af154398",
     "showTitle": false,
     "tableResultSettingsMap": {},
     "title": ""
    }
   },
   "outputs": [
    {
     "output_type": "stream",
     "name": "stdout",
     "output_type": "stream",
     "text": [
      "+-----------+-----+\n| Department|count|\n+-----------+-----+\n|         IT|    1|\n|   Business|    1|\n|Hospitality|    1|\n+-----------+-----+\n\n"
     ]
    }
   ],
   "source": [
    "from pyspark.sql import SparkSession\n",
    "from pyspark.sql import functions as F\n",
    "\n",
    "spark = SparkSession.builder.appName(\"employees\").getOrCreate()\n",
    "\n",
    "data = [\n",
    "    (\"Prakhyat\",23,\"IT\"),\n",
    "    (\"Elian\",22,\"Business\"),\n",
    "    (\"Safio\",30,\"Hospitality\")\n",
    "]\n",
    "\n",
    "columns =[\"Name\",\"Age\",\"Department\"]\n",
    "df = spark.createDataFrame(data,columns)\n",
    "\n",
    "desc_employees = (\n",
    "    df.groupBy(\"Department\")\n",
    "    .count()\n",
    "    .orderBy(F.desc(\"count\"))\n",
    ")\n",
    "\n",
    "desc_employees.show()"
   ]
  },
  {
   "cell_type": "markdown",
   "metadata": {
    "application/vnd.databricks.v1+cell": {
     "cellMetadata": {},
     "inputWidgets": {},
     "nuid": "88969ed1-399f-4324-8762-2b31ec619394",
     "showTitle": false,
     "tableResultSettingsMap": {},
     "title": ""
    }
   },
   "source": [
    "QNo.3) Given a string S of lowercase English letters, the task is to find the index of the first non-repeating character. If there is no such character, return -1"
   ]
  },
  {
   "cell_type": "code",
   "execution_count": 0,
   "metadata": {
    "application/vnd.databricks.v1+cell": {
     "cellMetadata": {
      "byteLimit": 2048000,
      "rowLimit": 10000
     },
     "inputWidgets": {},
     "nuid": "80979660-a90b-46cd-b2e1-8fae2b16f1b7",
     "showTitle": false,
     "tableResultSettingsMap": {},
     "title": ""
    }
   },
   "outputs": [
    {
     "output_type": "stream",
     "name": "stdout",
     "output_type": "stream",
     "text": [
      "r\n"
     ]
    }
   ],
   "source": [
    "# Python program to find the index of the first\n",
    "\n",
    "# non repeating character using nested loop\n",
    " \n",
    "# Function to find the index of the first \n",
    "\n",
    "# non-repeating character\n",
    "\n",
    "def nonRepeatingChar(s):\n",
    "\n",
    "    n = len(s)\n",
    "\n",
    "    #shrish\n",
    " \n",
    "    # Iterate over each character in the string\n",
    "\n",
    "    for i in range(n):\n",
    "\n",
    "        found = False\n",
    " \n",
    "        # Check if the character repeats in the\n",
    "\n",
    "        # rest of the string\n",
    "\n",
    "        for j in range(n):\n",
    "\n",
    "            if i != j and s[i] == s[j]:\n",
    "\n",
    "                found = True\n",
    "\n",
    "                break\n",
    " \n",
    "        # If character does not repeat, return it\n",
    "\n",
    "        if not found:\n",
    "\n",
    "            return s[i]\n",
    " \n",
    "    # If no such character is found, return '$'\n",
    "\n",
    "    return '$'\n",
    " \n",
    "if __name__ == \"__main__\":\n",
    "\n",
    "    s = \"shrish\"\n",
    "\n",
    "    print(nonRepeatingChar(s))\n",
    " "
   ]
  }
 ],
 "metadata": {
  "application/vnd.databricks.v1+notebook": {
   "computePreferences": null,
   "dashboards": [],
   "environmentMetadata": {
    "base_environment": "",
    "client": "1"
   },
   "language": "python",
   "notebookMetadata": {
    "pythonIndentUnit": 4
   },
   "notebookName": "InterView Questions",
   "widgets": {}
  }
 },
 "nbformat": 4,
 "nbformat_minor": 0
}
