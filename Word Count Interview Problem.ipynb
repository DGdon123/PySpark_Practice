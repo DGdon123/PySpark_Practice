{
 "cells": [
  {
   "cell_type": "code",
   "execution_count": 0,
   "metadata": {
    "application/vnd.databricks.v1+cell": {
     "cellMetadata": {
      "byteLimit": 2048000,
      "rowLimit": 10000
     },
     "inputWidgets": {},
     "nuid": "aabd62d1-9245-4c23-9c36-47db56857282",
     "showTitle": false,
     "tableResultSettingsMap": {},
     "title": ""
    }
   },
   "outputs": [],
   "source": [
    "from pyspark.sql import *\n",
    "from pyspark.sql.functions import *\n",
    "from pyspark.sql.types import *"
   ]
  },
  {
   "cell_type": "code",
   "execution_count": 0,
   "metadata": {
    "application/vnd.databricks.v1+cell": {
     "cellMetadata": {
      "byteLimit": 2048000,
      "rowLimit": 10000
     },
     "inputWidgets": {},
     "nuid": "927ee906-9e58-4a95-9509-367bd6fb5e6f",
     "showTitle": false,
     "tableResultSettingsMap": {},
     "title": ""
    }
   },
   "outputs": [],
   "source": [
    "spark = SparkSession.builder.appName(\"Word count\").getOrCreate()"
   ]
  },
  {
   "cell_type": "code",
   "execution_count": 0,
   "metadata": {
    "application/vnd.databricks.v1+cell": {
     "cellMetadata": {
      "byteLimit": 2048000,
      "rowLimit": 10000
     },
     "inputWidgets": {},
     "nuid": "3f60caaf-abd0-4c7b-a83a-6c366bf3a3ca",
     "showTitle": false,
     "tableResultSettingsMap": {},
     "title": ""
    }
   },
   "outputs": [],
   "source": [
    "data =[(1,\"Sunil is a good coder\"),(2,\"Jasmine is good in AWS\"),(3,\"Prakhyat is a great coder\"),(4,\"Satish have a good experience\")]\n",
    "columns=[\"id\",\"description\"]"
   ]
  },
  {
   "cell_type": "markdown",
   "metadata": {
    "application/vnd.databricks.v1+cell": {
     "cellMetadata": {
      "byteLimit": 2048000,
      "rowLimit": 10000
     },
     "inputWidgets": {},
     "nuid": "447cf3f5-cdc4-4151-b3d6-4bf3b578cf71",
     "showTitle": false,
     "tableResultSettingsMap": {},
     "title": ""
    }
   },
   "source": [
    "df_read =spark.read.format(\"csv\").option(\"inferSchema\",True).option(\"header\",True).load(\"Absolute path\")\n",
    "df_read.display()"
   ]
  },
  {
   "cell_type": "code",
   "execution_count": 0,
   "metadata": {
    "application/vnd.databricks.v1+cell": {
     "cellMetadata": {
      "byteLimit": 2048000,
      "rowLimit": 10000
     },
     "inputWidgets": {},
     "nuid": "aa0f10d7-3f2d-4ccf-b711-70edda99930d",
     "showTitle": false,
     "tableResultSettingsMap": {},
     "title": ""
    }
   },
   "outputs": [
    {
     "output_type": "display_data",
     "data": {
      "text/html": [
       "<style scoped>\n",
       "  .table-result-container {\n",
       "    max-height: 300px;\n",
       "    overflow: auto;\n",
       "  }\n",
       "  table, th, td {\n",
       "    border: 1px solid black;\n",
       "    border-collapse: collapse;\n",
       "  }\n",
       "  th, td {\n",
       "    padding: 5px;\n",
       "  }\n",
       "  th {\n",
       "    text-align: left;\n",
       "  }\n",
       "</style><div class='table-result-container'><table class='table-result'><thead style='background-color: white'><tr><th>id</th><th>description</th></tr></thead><tbody><tr><td>1</td><td>Sunil is a good coder</td></tr><tr><td>2</td><td>Jasmine is good in AWS</td></tr><tr><td>3</td><td>Prakhyat is a great coder</td></tr><tr><td>4</td><td>Satish have a good experience</td></tr></tbody></table></div>"
      ]
     },
     "metadata": {
      "application/vnd.databricks.v1+output": {
       "addedWidgets": {},
       "aggData": [],
       "aggError": "",
       "aggOverflow": false,
       "aggSchema": [],
       "aggSeriesLimitReached": false,
       "aggType": "",
       "arguments": {},
       "columnCustomDisplayInfos": {},
       "data": [
        [
         1,
         "Sunil is a good coder"
        ],
        [
         2,
         "Jasmine is good in AWS"
        ],
        [
         3,
         "Prakhyat is a great coder"
        ],
        [
         4,
         "Satish have a good experience"
        ]
       ],
       "datasetInfos": [],
       "dbfsResultPath": null,
       "isJsonSchema": true,
       "metadata": {},
       "overflow": false,
       "plotOptions": {
        "customPlotOptions": {},
        "displayType": "table",
        "pivotAggregation": null,
        "pivotColumns": null,
        "xColumns": null,
        "yColumns": null
       },
       "removedWidgets": [],
       "schema": [
        {
         "metadata": "{}",
         "name": "id",
         "type": "\"long\""
        },
        {
         "metadata": "{}",
         "name": "description",
         "type": "\"string\""
        }
       ],
       "type": "table"
      }
     },
     "output_type": "display_data"
    }
   ],
   "source": [
    "df = spark.createDataFrame(data,columns)\n",
    "df.display()"
   ]
  },
  {
   "cell_type": "code",
   "execution_count": 0,
   "metadata": {
    "application/vnd.databricks.v1+cell": {
     "cellMetadata": {
      "byteLimit": 2048000,
      "rowLimit": 10000
     },
     "inputWidgets": {},
     "nuid": "bf27f3eb-40ab-4fca-ba27-f484ee6be89e",
     "showTitle": false,
     "tableResultSettingsMap": {},
     "title": ""
    }
   },
   "outputs": [
    {
     "output_type": "display_data",
     "data": {
      "text/html": [
       "<style scoped>\n",
       "  .table-result-container {\n",
       "    max-height: 300px;\n",
       "    overflow: auto;\n",
       "  }\n",
       "  table, th, td {\n",
       "    border: 1px solid black;\n",
       "    border-collapse: collapse;\n",
       "  }\n",
       "  th, td {\n",
       "    padding: 5px;\n",
       "  }\n",
       "  th {\n",
       "    text-align: left;\n",
       "  }\n",
       "</style><div class='table-result-container'><table class='table-result'><thead style='background-color: white'><tr><th>id</th><th>description</th><th>word</th></tr></thead><tbody><tr><td>1</td><td>Sunil is a good coder</td><td>Sunil</td></tr><tr><td>1</td><td>Sunil is a good coder</td><td>is</td></tr><tr><td>1</td><td>Sunil is a good coder</td><td>a</td></tr><tr><td>1</td><td>Sunil is a good coder</td><td>good</td></tr><tr><td>1</td><td>Sunil is a good coder</td><td>coder</td></tr><tr><td>2</td><td>Jasmine is good in AWS</td><td>Jasmine</td></tr><tr><td>2</td><td>Jasmine is good in AWS</td><td>is</td></tr><tr><td>2</td><td>Jasmine is good in AWS</td><td>good</td></tr><tr><td>2</td><td>Jasmine is good in AWS</td><td>in</td></tr><tr><td>2</td><td>Jasmine is good in AWS</td><td>AWS</td></tr><tr><td>3</td><td>Prakhyat is a great coder</td><td>Prakhyat</td></tr><tr><td>3</td><td>Prakhyat is a great coder</td><td>is</td></tr><tr><td>3</td><td>Prakhyat is a great coder</td><td>a</td></tr><tr><td>3</td><td>Prakhyat is a great coder</td><td>great</td></tr><tr><td>3</td><td>Prakhyat is a great coder</td><td>coder</td></tr><tr><td>4</td><td>Satish have a good experience</td><td>Satish</td></tr><tr><td>4</td><td>Satish have a good experience</td><td>have</td></tr><tr><td>4</td><td>Satish have a good experience</td><td>a</td></tr><tr><td>4</td><td>Satish have a good experience</td><td>good</td></tr><tr><td>4</td><td>Satish have a good experience</td><td>experience</td></tr></tbody></table></div>"
      ]
     },
     "metadata": {
      "application/vnd.databricks.v1+output": {
       "addedWidgets": {},
       "aggData": [],
       "aggError": "",
       "aggOverflow": false,
       "aggSchema": [],
       "aggSeriesLimitReached": false,
       "aggType": "",
       "arguments": {},
       "columnCustomDisplayInfos": {},
       "data": [
        [
         1,
         "Sunil is a good coder",
         "Sunil"
        ],
        [
         1,
         "Sunil is a good coder",
         "is"
        ],
        [
         1,
         "Sunil is a good coder",
         "a"
        ],
        [
         1,
         "Sunil is a good coder",
         "good"
        ],
        [
         1,
         "Sunil is a good coder",
         "coder"
        ],
        [
         2,
         "Jasmine is good in AWS",
         "Jasmine"
        ],
        [
         2,
         "Jasmine is good in AWS",
         "is"
        ],
        [
         2,
         "Jasmine is good in AWS",
         "good"
        ],
        [
         2,
         "Jasmine is good in AWS",
         "in"
        ],
        [
         2,
         "Jasmine is good in AWS",
         "AWS"
        ],
        [
         3,
         "Prakhyat is a great coder",
         "Prakhyat"
        ],
        [
         3,
         "Prakhyat is a great coder",
         "is"
        ],
        [
         3,
         "Prakhyat is a great coder",
         "a"
        ],
        [
         3,
         "Prakhyat is a great coder",
         "great"
        ],
        [
         3,
         "Prakhyat is a great coder",
         "coder"
        ],
        [
         4,
         "Satish have a good experience",
         "Satish"
        ],
        [
         4,
         "Satish have a good experience",
         "have"
        ],
        [
         4,
         "Satish have a good experience",
         "a"
        ],
        [
         4,
         "Satish have a good experience",
         "good"
        ],
        [
         4,
         "Satish have a good experience",
         "experience"
        ]
       ],
       "datasetInfos": [],
       "dbfsResultPath": null,
       "isJsonSchema": true,
       "metadata": {},
       "overflow": false,
       "plotOptions": {
        "customPlotOptions": {},
        "displayType": "table",
        "pivotAggregation": null,
        "pivotColumns": null,
        "xColumns": null,
        "yColumns": null
       },
       "removedWidgets": [],
       "schema": [
        {
         "metadata": "{}",
         "name": "id",
         "type": "\"long\""
        },
        {
         "metadata": "{}",
         "name": "description",
         "type": "\"string\""
        },
        {
         "metadata": "{}",
         "name": "word",
         "type": "\"string\""
        }
       ],
       "type": "table"
      }
     },
     "output_type": "display_data"
    },
    {
     "output_type": "display_data",
     "data": {
      "text/plain": [
       "\u001B[0;31m---------------------------------------------------------------------------\u001B[0m\n",
       "\u001B[0;31mAttributeError\u001B[0m                            Traceback (most recent call last)\n",
       "File \u001B[0;32m<command-4227993828578143>:2\u001B[0m\n",
       "\u001B[1;32m      1\u001B[0m word_count_df \u001B[38;5;241m=\u001B[39m df\u001B[38;5;241m.\u001B[39mwithColumn(\u001B[38;5;124m\"\u001B[39m\u001B[38;5;124mword\u001B[39m\u001B[38;5;124m\"\u001B[39m,explode(split(col(\u001B[38;5;124m\"\u001B[39m\u001B[38;5;124mdescription\u001B[39m\u001B[38;5;124m\"\u001B[39m), \u001B[38;5;124m\"\u001B[39m\u001B[38;5;124m \u001B[39m\u001B[38;5;124m\"\u001B[39m)))\u001B[38;5;241m.\u001B[39mdisplay()\n",
       "\u001B[0;32m----> 2\u001B[0m result_df \u001B[38;5;241m=\u001B[39m word_count_df\u001B[38;5;241m.\u001B[39mgroupBy(\u001B[38;5;124m\"\u001B[39m\u001B[38;5;124mword\u001B[39m\u001B[38;5;124m\"\u001B[39m)\u001B[38;5;241m.\u001B[39magg(count(\u001B[38;5;124m\"\u001B[39m\u001B[38;5;124m*\u001B[39m\u001B[38;5;124m\"\u001B[39m)\u001B[38;5;241m.\u001B[39malias(\u001B[38;5;124m\"\u001B[39m\u001B[38;5;124mtotal_cnt\u001B[39m\u001B[38;5;124m\"\u001B[39m))\n",
       "\u001B[1;32m      4\u001B[0m \u001B[38;5;66;03m# Display the result\u001B[39;00m\n",
       "\u001B[1;32m      5\u001B[0m result_df\u001B[38;5;241m.\u001B[39mshow()\n",
       "\n",
       "\u001B[0;31mAttributeError\u001B[0m: 'NoneType' object has no attribute 'groupBy'"
      ]
     },
     "metadata": {
      "application/vnd.databricks.v1+output": {
       "arguments": {},
       "data": "\u001B[0;31m---------------------------------------------------------------------------\u001B[0m\n\u001B[0;31mAttributeError\u001B[0m                            Traceback (most recent call last)\nFile \u001B[0;32m<command-4227993828578143>:2\u001B[0m\n\u001B[1;32m      1\u001B[0m word_count_df \u001B[38;5;241m=\u001B[39m df\u001B[38;5;241m.\u001B[39mwithColumn(\u001B[38;5;124m\"\u001B[39m\u001B[38;5;124mword\u001B[39m\u001B[38;5;124m\"\u001B[39m,explode(split(col(\u001B[38;5;124m\"\u001B[39m\u001B[38;5;124mdescription\u001B[39m\u001B[38;5;124m\"\u001B[39m), \u001B[38;5;124m\"\u001B[39m\u001B[38;5;124m \u001B[39m\u001B[38;5;124m\"\u001B[39m)))\u001B[38;5;241m.\u001B[39mdisplay()\n\u001B[0;32m----> 2\u001B[0m result_df \u001B[38;5;241m=\u001B[39m word_count_df\u001B[38;5;241m.\u001B[39mgroupBy(\u001B[38;5;124m\"\u001B[39m\u001B[38;5;124mword\u001B[39m\u001B[38;5;124m\"\u001B[39m)\u001B[38;5;241m.\u001B[39magg(count(\u001B[38;5;124m\"\u001B[39m\u001B[38;5;124m*\u001B[39m\u001B[38;5;124m\"\u001B[39m)\u001B[38;5;241m.\u001B[39malias(\u001B[38;5;124m\"\u001B[39m\u001B[38;5;124mtotal_cnt\u001B[39m\u001B[38;5;124m\"\u001B[39m))\n\u001B[1;32m      4\u001B[0m \u001B[38;5;66;03m# Display the result\u001B[39;00m\n\u001B[1;32m      5\u001B[0m result_df\u001B[38;5;241m.\u001B[39mshow()\n\n\u001B[0;31mAttributeError\u001B[0m: 'NoneType' object has no attribute 'groupBy'",
       "errorSummary": "<span class='ansi-red-fg'>AttributeError</span>: 'NoneType' object has no attribute 'groupBy'",
       "errorTraceType": "ansi",
       "metadata": {},
       "type": "ipynbError"
      }
     },
     "output_type": "display_data"
    }
   ],
   "source": [
    "word_count_df = df.withColumn(\"word\",explode(split(col(\"description\"), \" \"))).display()\n",
    "\n",
    "result_df = word_count_df.groupBy(\"word\").agg(count(\"*\").alias(\"total_cnt\"))\n",
    "\n",
    "# Display the result\n",
    "result_df.show()"
   ]
  },
  {
   "cell_type": "code",
   "execution_count": 0,
   "metadata": {
    "application/vnd.databricks.v1+cell": {
     "cellMetadata": {
      "byteLimit": 2048000,
      "rowLimit": 10000
     },
     "inputWidgets": {},
     "nuid": "91686947-f06b-4834-994b-e89b7f098ae4",
     "showTitle": false,
     "tableResultSettingsMap": {},
     "title": ""
    }
   },
   "outputs": [
    {
     "output_type": "display_data",
     "data": {
      "text/plain": [
       ""
      ]
     },
     "metadata": {
      "application/vnd.databricks.v1+output": {
       "arguments": {},
       "data": "",
       "errorSummary": "Command skipped",
       "errorTraceType": "ansi",
       "metadata": {},
       "type": "ipynbError"
      }
     },
     "output_type": "display_data"
    }
   ],
   "source": [
    "df.display()"
   ]
  },
  {
   "cell_type": "code",
   "execution_count": 0,
   "metadata": {
    "application/vnd.databricks.v1+cell": {
     "cellMetadata": {
      "byteLimit": 2048000,
      "rowLimit": 10000
     },
     "inputWidgets": {},
     "nuid": "5c16f36c-bf62-49ba-86fc-1a757b18d352",
     "showTitle": false,
     "tableResultSettingsMap": {},
     "title": ""
    }
   },
   "outputs": [
    {
     "output_type": "display_data",
     "data": {
      "text/plain": [
       ""
      ]
     },
     "metadata": {
      "application/vnd.databricks.v1+output": {
       "arguments": {},
       "data": "",
       "errorSummary": "Command skipped",
       "errorTraceType": "ansi",
       "metadata": {},
       "type": "ipynbError"
      }
     },
     "output_type": "display_data"
    }
   ],
   "source": [
    "df_2.filter(col(\"total_cnt\")==\"1\").display()"
   ]
  }
 ],
 "metadata": {
  "application/vnd.databricks.v1+notebook": {
   "computePreferences": null,
   "dashboards": [],
   "environmentMetadata": {
    "base_environment": "",
    "client": "1"
   },
   "language": "python",
   "notebookMetadata": {
    "pythonIndentUnit": 4
   },
   "notebookName": "Word Count Interview Problem",
   "widgets": {}
  }
 },
 "nbformat": 4,
 "nbformat_minor": 0
}
