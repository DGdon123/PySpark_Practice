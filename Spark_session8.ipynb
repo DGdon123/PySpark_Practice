{
 "cells": [
  {
   "cell_type": "markdown",
   "metadata": {
    "application/vnd.databricks.v1+cell": {
     "cellMetadata": {},
     "inputWidgets": {},
     "nuid": "96816ed7-b08a-4ca3-abb9-f99880c3535d",
     "showTitle": false,
     "tableResultSettingsMap": {},
     "title": ""
    }
   },
   "source": [
    "\n",
    "## Overview\n",
    "\n",
    "This notebook will show you how to create and query a table or DataFrame that you uploaded to DBFS. [DBFS](https://docs.databricks.com/user-guide/dbfs-databricks-file-system.html) is a Databricks File System that allows you to store data for querying inside of Databricks. This notebook assumes that you have a file already inside of DBFS that you would like to read from.\n",
    "\n",
    "This notebook is written in **Python** so the default cell type is Python. However, you can use different languages by using the `%LANGUAGE` syntax. Python, Scala, SQL, and R are all supported."
   ]
  },
  {
   "cell_type": "code",
   "execution_count": 0,
   "metadata": {
    "application/vnd.databricks.v1+cell": {
     "cellMetadata": {},
     "inputWidgets": {},
     "nuid": "6482be4c-f067-47c9-b0ac-35c938b94601",
     "showTitle": false,
     "tableResultSettingsMap": {},
     "title": ""
    }
   },
   "outputs": [
    {
     "output_type": "display_data",
     "data": {
      "text/html": [
       "<style scoped>\n",
       "  .ansiout {\n",
       "    display: block;\n",
       "    unicode-bidi: embed;\n",
       "    white-space: pre-wrap;\n",
       "    word-wrap: break-word;\n",
       "    word-break: break-all;\n",
       "    font-family: \"Menlo\", \"Monaco\", \"Consolas\", \"Ubuntu Mono\", \"Source Code Pro\", monospace;\n",
       "    font-size: 13px;\n",
       "    color: #555;\n",
       "    margin-left: 4px;\n",
       "    line-height: 19px;\n",
       "  }\n",
       "</style>"
      ]
     },
     "metadata": {
      "application/vnd.databricks.v1+output": {
       "arguments": {},
       "data": "",
       "errorSummary": "",
       "errorTraceType": null,
       "metadata": {},
       "type": "ipynbError"
      }
     },
     "output_type": "display_data"
    }
   ],
   "source": [
    "# File location and type\n",
    "file_location = \"/FileStore/tables/kgds-2.csv\"\n",
    "file_type = \"csv\"\n",
    "\n",
    "# CSV options\n",
    "infer_schema = \"false\"\n",
    "first_row_is_header = \"false\"\n",
    "delimiter = \",\"\n",
    "\n",
    "# The applied options are for CSV files. For other file types, these will be ignored.\n",
    "df = spark.read.format(file_type) \\\n",
    "  .option(\"inferSchema\", infer_schema) \\\n",
    "  .option(\"header\", first_row_is_header) \\\n",
    "  .option(\"sep\", delimiter) \\\n",
    "  .load(file_location)\n",
    "\n",
    "display(df)"
   ]
  },
  {
   "cell_type": "code",
   "execution_count": 0,
   "metadata": {
    "application/vnd.databricks.v1+cell": {
     "cellMetadata": {},
     "inputWidgets": {},
     "nuid": "bd82bb99-1479-4d5c-be10-8c36df0f1d44",
     "showTitle": false,
     "tableResultSettingsMap": {},
     "title": ""
    }
   },
   "outputs": [
    {
     "output_type": "display_data",
     "data": {
      "text/html": [
       "<style scoped>\n",
       "  .ansiout {\n",
       "    display: block;\n",
       "    unicode-bidi: embed;\n",
       "    white-space: pre-wrap;\n",
       "    word-wrap: break-word;\n",
       "    word-break: break-all;\n",
       "    font-family: \"Menlo\", \"Monaco\", \"Consolas\", \"Ubuntu Mono\", \"Source Code Pro\", monospace;\n",
       "    font-size: 13px;\n",
       "    color: #555;\n",
       "    margin-left: 4px;\n",
       "    line-height: 19px;\n",
       "  }\n",
       "</style>"
      ]
     },
     "metadata": {
      "application/vnd.databricks.v1+output": {
       "arguments": {},
       "data": "",
       "errorSummary": "",
       "errorTraceType": null,
       "metadata": {},
       "type": "ipynbError"
      }
     },
     "output_type": "display_data"
    }
   ],
   "source": [
    "# Create a view or table\n",
    "\n",
    "temp_table_name = \"kgds-2_csv\"\n",
    "\n",
    "df.createOrReplaceTempView(temp_table_name)"
   ]
  },
  {
   "cell_type": "code",
   "execution_count": 0,
   "metadata": {
    "application/vnd.databricks.v1+cell": {
     "cellMetadata": {},
     "inputWidgets": {},
     "nuid": "b5f66379-6f7f-42ec-8e82-d0e0926a1721",
     "showTitle": false,
     "tableResultSettingsMap": {},
     "title": ""
    }
   },
   "outputs": [
    {
     "output_type": "display_data",
     "data": {
      "text/html": [
       "<style scoped>\n",
       "  .ansiout {\n",
       "    display: block;\n",
       "    unicode-bidi: embed;\n",
       "    white-space: pre-wrap;\n",
       "    word-wrap: break-word;\n",
       "    word-break: break-all;\n",
       "    font-family: \"Menlo\", \"Monaco\", \"Consolas\", \"Ubuntu Mono\", \"Source Code Pro\", monospace;\n",
       "    font-size: 13px;\n",
       "    color: #555;\n",
       "    margin-left: 4px;\n",
       "    line-height: 19px;\n",
       "  }\n",
       "</style>"
      ]
     },
     "metadata": {
      "application/vnd.databricks.v1+output": {
       "arguments": {},
       "data": "",
       "errorSummary": "",
       "errorTraceType": null,
       "metadata": {},
       "type": "ipynbError"
      }
     },
     "output_type": "display_data"
    }
   ],
   "source": [
    "%sql\n",
    "\n",
    "/* Query the created temp table in a SQL cell */\n",
    "\n",
    "select * from `kgds-2_csv`"
   ]
  },
  {
   "cell_type": "code",
   "execution_count": 0,
   "metadata": {
    "application/vnd.databricks.v1+cell": {
     "cellMetadata": {
      "byteLimit": 2048000,
      "rowLimit": 10000
     },
     "inputWidgets": {},
     "nuid": "db9631f6-bb4a-42ca-8a3c-0d48af932331",
     "showTitle": false,
     "tableResultSettingsMap": {},
     "title": ""
    }
   },
   "outputs": [],
   "source": [
    "# With this registered as a temp view, it will only be available to this particular notebook. If you'd like other users to be able to query this table, you can also create a table from the DataFrame.\n",
    "# Once saved, this table will persist across cluster restarts as well as allow various users across different notebooks to query this data.\n",
    "# To do so, choose your table name and uncomment the bottom line.\n",
    "\n",
    "permanent_table_name = \"kgds-2_csv\"\n",
    "\n",
    "# df.write.format(\"parquet\").saveAsTable(permanent_table_name)"
   ]
  },
  {
   "cell_type": "code",
   "execution_count": 0,
   "metadata": {
    "application/vnd.databricks.v1+cell": {
     "cellMetadata": {
      "byteLimit": 2048000,
      "rowLimit": 10000
     },
     "inputWidgets": {},
     "nuid": "38e6f29b-4c6e-4765-96f7-9e42bc4915a3",
     "showTitle": false,
     "tableResultSettingsMap": {},
     "title": ""
    }
   },
   "outputs": [
    {
     "output_type": "stream",
     "name": "stdout",
     "output_type": "stream",
     "text": [
      "Out[3]: [FileInfo(path='dbfs:/FileStore/tables/kgds-1.csv', name='kgds-1.csv', size=5359, modificationTime=1732156878000),\n FileInfo(path='dbfs:/FileStore/tables/kgds-2.csv', name='kgds-2.csv', size=5359, modificationTime=1732156945000),\n FileInfo(path='dbfs:/FileStore/tables/kgds.csv', name='kgds.csv', size=5359, modificationTime=1732156828000)]"
     ]
    }
   ],
   "source": [
    "# /FileStore/tables/kgds-2.csv\n",
    "\n",
    "dbutils.fs.ls('/FileStore/tables/')"
   ]
  },
  {
   "cell_type": "code",
   "execution_count": 0,
   "metadata": {
    "application/vnd.databricks.v1+cell": {
     "cellMetadata": {
      "byteLimit": 2048000,
      "rowLimit": 10000
     },
     "inputWidgets": {},
     "nuid": "e6ade4b1-f2e0-4c2a-910e-35acf543c698",
     "showTitle": false,
     "tableResultSettingsMap": {},
     "title": ""
    }
   },
   "outputs": [],
   "source": [
    "from pyspark.sql import SparkSession\n",
    "\n",
    "spark = SparkSession.builder.appName(\"Tutorial\").getOrCreate()"
   ]
  },
  {
   "cell_type": "code",
   "execution_count": 0,
   "metadata": {
    "application/vnd.databricks.v1+cell": {
     "cellMetadata": {
      "byteLimit": 2048000,
      "rowLimit": 10000
     },
     "inputWidgets": {},
     "nuid": "ff65a49b-f219-4aa2-b0c6-c4e634f51a7d",
     "showTitle": false,
     "tableResultSettingsMap": {},
     "title": ""
    }
   },
   "outputs": [
    {
     "output_type": "display_data",
     "data": {
      "text/html": [
       "<style scoped>\n",
       "  .table-result-container {\n",
       "    max-height: 300px;\n",
       "    overflow: auto;\n",
       "  }\n",
       "  table, th, td {\n",
       "    border: 1px solid black;\n",
       "    border-collapse: collapse;\n",
       "  }\n",
       "  th, td {\n",
       "    padding: 5px;\n",
       "  }\n",
       "  th {\n",
       "    text-align: left;\n",
       "  }\n",
       "</style><div class='table-result-container'><table class='table-result'><thead style='background-color: white'><tr><th>Rank</th><th>Player</th><th>Nation</th><th>Confederation</th><th>Goals</th><th>Caps</th><th>Goal_per_match</th><th>Career_span</th><th>Date_of_50th_goal</th></tr></thead><tbody><tr><td>1</td><td>Cristiano Ronaldo</td><td>�Portugal</td><td>UEFA</td><td>135</td><td>217</td><td>0.62</td><td>2003-</td><td>26-Jun-14</td></tr><tr><td>2</td><td>Lionel Messi</td><td>�Argentina</td><td>CONMEBOL</td><td>112</td><td>190</td><td>0.59</td><td>2005-</td><td>29-Mar-16</td></tr><tr><td>3</td><td>Ali Daei</td><td>�Iran</td><td>AFC</td><td>108</td><td>148</td><td>0.73</td><td>1993-2006</td><td>9-Jan-00</td></tr><tr><td>4</td><td>Sunil Chhetri</td><td>�India</td><td>AFC</td><td>94</td><td>151</td><td>0.62</td><td>2005-2024</td><td>31-Dec-15</td></tr><tr><td>5</td><td>Mokhtar Dahari</td><td>�Malaysia</td><td>AFC</td><td>89</td><td>142</td><td>0.63</td><td>1972-1985</td><td>22-Aug-76</td></tr><tr><td>6</td><td>Ali Mabkhout</td><td>�United Arab Emirates</td><td>AFC</td><td>85</td><td>115</td><td>0.74</td><td>2009-</td><td>31-Aug-19</td></tr><tr><td>6</td><td>Romelu Lukaku</td><td>�Belgium</td><td>UEFA</td><td>85</td><td>120</td><td>0.71</td><td>2010-</td><td>10-Oct-19</td></tr><tr><td>8</td><td>Ferenc Pusk�s</td><td>�Hungary_Spain</td><td>UEFA</td><td>84</td><td>89</td><td>0.94</td><td>1945-1962</td><td>24-Jul-52</td></tr><tr><td>8</td><td>Robert Lewandowski</td><td>�Poland</td><td>UEFA</td><td>84</td><td>156</td><td>0.54</td><td>2008-</td><td>5-Oct-17</td></tr><tr><td>10</td><td>Godfrey Chitalu</td><td>�Zambia</td><td>CAF</td><td>79</td><td>111</td><td>0.71</td><td>1968-1980</td><td>7-Nov-78</td></tr><tr><td>10</td><td>Neymar</td><td>�Brazil</td><td>CONMEBOL</td><td>79</td><td>128</td><td>0.62</td><td>2010-</td><td>11-Nov-16</td></tr><tr><td>12</td><td>Hussein Saeed</td><td>�Iraq</td><td>AFC</td><td>78</td><td>137</td><td>0.57</td><td>1977-1990</td><td>17-Mar-84</td></tr><tr><td>13</td><td>Pel�</td><td>�Brazil</td><td>CONMEBOL</td><td>77</td><td>92</td><td>0.84</td><td>1957-1971</td><td>4-Jul-65</td></tr><tr><td>14</td><td>Vivian Woodward</td><td>�England_�England amateurs</td><td>UEFA</td><td>75</td><td>53</td><td>1.42</td><td>1903-1914</td><td>31-May-09</td></tr><tr><td>14</td><td>S�ndor Kocsis</td><td>�Hungary</td><td>UEFA</td><td>75</td><td>68</td><td>1.1</td><td>1948-1956</td><td>19-Sep-54</td></tr><tr><td>14</td><td>Kunishige Kamamoto</td><td>�Japan</td><td>AFC</td><td>75</td><td>76</td><td>0.99</td><td>1964-1977</td><td>18-Jul-72</td></tr><tr><td>14</td><td>Bashar Abdullah</td><td>�Kuwait</td><td>AFC</td><td>75</td><td>134</td><td>0.56</td><td>1996-2007</td><td>25-Dec-02</td></tr><tr><td>18</td><td>Majed Abdullah</td><td>�Saudi Arabia</td><td>AFC</td><td>72</td><td>117</td><td>0.62</td><td>1977-1994</td><td>15-Apr-84</td></tr><tr><td>19</td><td>Kinnah Phiri</td><td>�Malawi</td><td>CAF</td><td>71</td><td>117</td><td>0.61</td><td>1973-1981</td><td>6-Jul-78</td></tr><tr><td>19</td><td>Kiatisuk Senamuang</td><td>�Thailand</td><td>AFC</td><td>71</td><td>134</td><td>0.53</td><td>1993-2007</td><td>23-Jan-01</td></tr><tr><td>19</td><td>Miroslav Klose</td><td>�Germany</td><td>UEFA</td><td>71</td><td>137</td><td>0.52</td><td>2001-2014</td><td>27-Jun-10</td></tr><tr><td>22</td><td>Piyapong Pue-on</td><td>�Thailand</td><td>AFC</td><td>70</td><td>100</td><td>0.7</td><td>1981-1997</td><td>30-Jan-89</td></tr><tr><td>22</td><td>Abdul Kadir</td><td>�Indonesia</td><td>AFC</td><td>70</td><td>111</td><td>0.63</td><td>1967-1979</td><td>8-Aug-72</td></tr><tr><td>22</td><td>Stern John</td><td>�Trinidad and Tobago</td><td>CONCACAF</td><td>70</td><td>115</td><td>0.61</td><td>1995-2012</td><td>13-Jun-04</td></tr><tr><td>25</td><td>Luis Su�rez</td><td>�Uruguay</td><td>CONMEBOL</td><td>69</td><td>143</td><td>0.48</td><td>2007-2024</td><td>23-Mar-18</td></tr><tr><td>25</td><td>Hossam Hassan</td><td>�Egypt</td><td>CAF</td><td>69</td><td>177</td><td>0.39</td><td>1985-2006</td><td>25-Feb-98</td></tr><tr><td>27</td><td>Gerd M�ller</td><td>�West Germany</td><td>UEFA</td><td>68</td><td>62</td><td>1.1</td><td>1966-1974</td><td>18-Jun-72</td></tr><tr><td>27</td><td>Harry Kane</td><td>�England</td><td>UEFA</td><td>68</td><td>102</td><td>0.67</td><td>2015-</td><td>7-Jun-22</td></tr><tr><td>27</td><td>Carlos Ruiz</td><td>�Guatemala</td><td>CONCACAF</td><td>68</td><td>133</td><td>0.51</td><td>1998-2016</td><td>15-Aug-12</td></tr><tr><td>27</td><td>Robbie Keane</td><td>�Republic of Ireland</td><td>UEFA</td><td>68</td><td>146</td><td>0.47</td><td>1998-2016</td><td>4-Jun-11</td></tr><tr><td>31</td><td>Edin D�eko</td><td>�Bosnia and Herzegovina</td><td>UEFA</td><td>67</td><td>138</td><td>0.49</td><td>2007-</td><td>28-Mar-17</td></tr><tr><td>32</td><td>Didier Drogba</td><td>�Ivory Coast</td><td>CAF</td><td>65</td><td>105</td><td>0.62</td><td>2002-2014</td><td>13-Jan-12</td></tr><tr><td>33</td><td>Teerasil Dangda</td><td>�Thailand</td><td>AFC</td><td>64</td><td>128</td><td>0.5</td><td>2007-</td><td>14-Dec-21</td></tr><tr><td>34</td><td>Jasem Al-Huwaidi</td><td>�Kuwait</td><td>AFC</td><td>63</td><td>83</td><td>0.76</td><td>1992-2003</td><td>30-Sep-00</td></tr><tr><td>35</td><td>Ronaldo</td><td>�Brazil</td><td>CONMEBOL</td><td>62</td><td>98</td><td>0.63</td><td>1994-2011</td><td>19-Nov-03</td></tr><tr><td>35</td><td>Ahmed Radhi</td><td>�Iraq</td><td>AFC</td><td>62</td><td>121</td><td>0.51</td><td>1982-1997</td><td>18-Aug-92</td></tr><tr><td>35</td><td>Zlatan Ibrahimovic</td><td>�Sweden</td><td>UEFA</td><td>62</td><td>122</td><td>0.51</td><td>2001-2023</td><td>4-Sep-14</td></tr><tr><td>38</td><td>Abdul Ghani Minhat</td><td>�Malaya��Malaysia</td><td>AFC</td><td>61</td><td>71</td><td>0.86</td><td>1956-1966</td><td>15-Dec-61</td></tr><tr><td>39</td><td>Imre Schlosser</td><td>�Hungary</td><td>UEFA</td><td>59</td><td>68</td><td>0.87</td><td>1906-1927</td><td>3-Jun-17</td></tr><tr><td>39</td><td>Aleksandar Mitrovi?</td><td>�Serbia</td><td>UEFA</td><td>59</td><td>97</td><td>0.61</td><td>2013-</td><td>27-Sep-22</td></tr><tr><td>39</td><td>David Villa</td><td>�Spain</td><td>UEFA</td><td>59</td><td>98</td><td>0.6</td><td>2005-2017</td><td>11-Oct-11</td></tr><tr><td>39</td><td>Mohamed Salah</td><td>�Egypt</td><td>CAF</td><td>59</td><td>103</td><td>0.57</td><td>2011-</td><td>24-Mar-23</td></tr><tr><td>39</td><td>Almoez Ali</td><td>�Qatar</td><td>AFC</td><td>59</td><td>117</td><td>0.5</td><td>2013-</td><td>31-Dec-23</td></tr><tr><td>44</td><td>Ali Ashfaq</td><td>�Maldives</td><td>AFC</td><td>58</td><td>98</td><td>0.59</td><td>2003-2023</td><td>29-Mar-16</td></tr><tr><td>44</td><td>Cha Bum-kun</td><td>�South Korea</td><td>AFC</td><td>58</td><td>136</td><td>0.43</td><td>1972-1986</td><td>5-Sep-77</td></tr><tr><td>44</td><td>Edinson Cavani</td><td>�Uruguay</td><td>CONMEBOL</td><td>58</td><td>136</td><td>0.43</td><td>2008-2022</td><td>18-Nov-19</td></tr><tr><td>47</td><td>Carlos Pav�n</td><td>�Honduras</td><td>CONCACAF</td><td>57</td><td>101</td><td>0.56</td><td>1993-2010</td><td>28-Mar-09</td></tr><tr><td>47</td><td>Olivier Giroud</td><td>�France</td><td>UEFA</td><td>57</td><td>137</td><td>0.42</td><td>2011-2024</td><td>22-Nov-22</td></tr><tr><td>47</td><td>Clint Dempsey</td><td>�United States</td><td>CONCACAF</td><td>57</td><td>141</td><td>0.4</td><td>2004-2018</td><td>7-Jun-16</td></tr><tr><td>47</td><td>Younis Mahmoud</td><td>�Iraq</td><td>AFC</td><td>57</td><td>148</td><td>0.39</td><td>2002-2016</td><td>5-Mar-14</td></tr><tr><td>47</td><td>Landon Donovan</td><td>�United States</td><td>CONCACAF</td><td>57</td><td>157</td><td>0.36</td><td>2000-2014</td><td>5-Jul-13</td></tr><tr><td>52</td><td>Gabriel Batistuta</td><td>�Argentina</td><td>CONMEBOL</td><td>56</td><td>78</td><td>0.72</td><td>1991-2002</td><td>29-Jun-00</td></tr><tr><td>52</td><td>Samuel Eto'o</td><td>�Cameroon</td><td>CAF</td><td>56</td><td>118</td><td>0.47</td><td>1997-2014</td><td>3-Sep-11</td></tr><tr><td>52</td><td>Bader Al-Mutawa</td><td>�Kuwait</td><td>AFC</td><td>56</td><td>196</td><td>0.29</td><td>2003-2022</td><td>3-Sep-15</td></tr><tr><td>55</td><td>Rom�rio</td><td>�Brazil</td><td>CONMEBOL</td><td>55</td><td>70</td><td>0.79</td><td>1987-2005</td><td>8-Oct-00</td></tr><tr><td>55</td><td>Sardar Azmoun</td><td>�Iran</td><td>AFC</td><td>55</td><td>88</td><td>0.63</td><td>2014-</td><td>14-Jan-24</td></tr><tr><td>55</td><td>Kazuyoshi Miura</td><td>�Japan</td><td>AFC</td><td>55</td><td>89</td><td>0.62</td><td>1990-2000</td><td>7-Sep-97</td></tr><tr><td>55</td><td>Jan Koller</td><td>�Czech Republic</td><td>UEFA</td><td>55</td><td>91</td><td>0.6</td><td>1999-2009</td><td>8-Sep-07</td></tr><tr><td>55</td><td>Iswadi Idris</td><td>�Indonesia</td><td>AFC</td><td>55</td><td>97</td><td>0.57</td><td>1968-1980</td><td>19-Nov-77</td></tr><tr><td>55</td><td>Fandi Ahmad</td><td>�Singapore</td><td>AFC</td><td>55</td><td>101</td><td>0.54</td><td>1979-1997</td><td>16-Dec-95</td></tr><tr><td>55</td><td>Joachim Streich</td><td>�East Germany</td><td>UEFA</td><td>55</td><td>102</td><td>0.54</td><td>1969-1984</td><td>26-Jul-83</td></tr><tr><td>62</td><td>Wayne Rooney</td><td>�England</td><td>UEFA</td><td>53</td><td>120</td><td>0.44</td><td>2003-2018</td><td>8-Sep-15</td></tr><tr><td>63</td><td>Poul Nielsen</td><td>�Denmark</td><td>UEFA</td><td>52</td><td>38</td><td>1.37</td><td>1910-1925</td><td>14-Jun-25</td></tr><tr><td>63</td><td>Phil Younghusband</td><td>�Philippines</td><td>AFC</td><td>52</td><td>108</td><td>0.48</td><td>2006-2019</td><td>22-Mar-18</td></tr><tr><td>63</td><td>Javier Hern�ndez</td><td>�Mexico</td><td>CONCACAF</td><td>52</td><td>109</td><td>0.48</td><td>2009-2019</td><td>23-Jun-18</td></tr><tr><td>63</td><td>Jon Dahl Tomasson</td><td>�Denmark</td><td>UEFA</td><td>52</td><td>112</td><td>0.46</td><td>1997-2010</td><td>21-Nov-07</td></tr><tr><td>63</td><td>Yousef Nasser</td><td>�Kuwait</td><td>AFC</td><td>52</td><td>113</td><td>0.46</td><td>2009-</td><td>5-Sep-24</td></tr><tr><td>63</td><td>Adnan Al Talyani</td><td>�United Arab Emirates</td><td>AFC</td><td>52</td><td>161</td><td>0.32</td><td>1983-1997</td><td>19-Nov-96</td></tr><tr><td>69</td><td>Lajos Tichy</td><td>�Hungary</td><td>UEFA</td><td>51</td><td>72</td><td>0.71</td><td>1955-1971</td><td>25-Apr-64</td></tr><tr><td>69</td><td>L� C�ng Vinh</td><td>�Vietnam</td><td>AFC</td><td>51</td><td>83</td><td>0.61</td><td>2004-2016</td><td>20-Nov-16</td></tr><tr><td>69</td><td>Mehdi Taremi</td><td>�Iran</td><td>AFC</td><td>51</td><td>90</td><td>0.57</td><td>2015-</td><td>6-Jun-24</td></tr><tr><td>69</td><td>Asamoah Gyan</td><td>�Ghana</td><td>CAF</td><td>51</td><td>109</td><td>0.47</td><td>2003-2019</td><td>11-Jun-17</td></tr><tr><td>69</td><td>Hakan ?�k�r</td><td>�Turkey</td><td>UEFA</td><td>51</td><td>112</td><td>0.46</td><td>1992-2007</td><td>11-Oct-06</td></tr><tr><td>69</td><td>Thierry Henry</td><td>�France</td><td>UEFA</td><td>51</td><td>123</td><td>0.41</td><td>1997-2010</td><td>9-Sep-09</td></tr><tr><td>69</td><td>Alexis S�nchez</td><td>�Chile</td><td>CONMEBOL</td><td>51</td><td>166</td><td>0.31</td><td>2006-</td><td>27-Sep-22</td></tr><tr><td>76</td><td>Karim Bagheri</td><td>�Iran</td><td>AFC</td><td>50</td><td>87</td><td>0.57</td><td>1993-2010</td><td>9-Jan-09</td></tr><tr><td>76</td><td>Robin van Persie</td><td>�Netherlands</td><td>UEFA</td><td>50</td><td>102</td><td>0.49</td><td>2005-2017</td><td>13-Oct-15</td></tr><tr><td>76</td><td>Hwang Sun-hong</td><td>�South Korea</td><td>AFC</td><td>50</td><td>103</td><td>0.49</td><td>1988-2002</td><td>4-Jun-02</td></tr><tr><td>76</td><td>Tim Cahill</td><td>�Australia</td><td>AFC /�OFC</td><td>50</td><td>108</td><td>0.46</td><td>2004-2018</td><td>10-Oct-17</td></tr><tr><td>76</td><td>Shinji Okazaki</td><td>�Japan</td><td>AFC</td><td>50</td><td>119</td><td>0.42</td><td>2008-2019</td><td>28-Mar-17</td></tr><tr><td>76</td><td>Zainal Abidin Hassan</td><td>�Malaysia</td><td>AFC</td><td>50</td><td>129</td><td>0.39</td><td>1980-1997</td><td>31-Mar-97</td></tr><tr><td>76</td><td>Son Heung-min</td><td>�South Korea</td><td>AFC</td><td>50</td><td>130</td><td>0.38</td><td>2010-</td><td>14-Nov-24</td></tr></tbody></table></div>"
      ]
     },
     "metadata": {
      "application/vnd.databricks.v1+output": {
       "addedWidgets": {},
       "aggData": [],
       "aggError": "",
       "aggOverflow": false,
       "aggSchema": [],
       "aggSeriesLimitReached": false,
       "aggType": "",
       "arguments": {},
       "columnCustomDisplayInfos": {},
       "data": [
        [
         1,
         "Cristiano Ronaldo",
         "�Portugal",
         "UEFA",
         135,
         217,
         0.62,
         "2003-",
         "26-Jun-14"
        ],
        [
         2,
         "Lionel Messi",
         "�Argentina",
         "CONMEBOL",
         112,
         190,
         0.59,
         "2005-",
         "29-Mar-16"
        ],
        [
         3,
         "Ali Daei",
         "�Iran",
         "AFC",
         108,
         148,
         0.73,
         "1993-2006",
         "9-Jan-00"
        ],
        [
         4,
         "Sunil Chhetri",
         "�India",
         "AFC",
         94,
         151,
         0.62,
         "2005-2024",
         "31-Dec-15"
        ],
        [
         5,
         "Mokhtar Dahari",
         "�Malaysia",
         "AFC",
         89,
         142,
         0.63,
         "1972-1985",
         "22-Aug-76"
        ],
        [
         6,
         "Ali Mabkhout",
         "�United Arab Emirates",
         "AFC",
         85,
         115,
         0.74,
         "2009-",
         "31-Aug-19"
        ],
        [
         6,
         "Romelu Lukaku",
         "�Belgium",
         "UEFA",
         85,
         120,
         0.71,
         "2010-",
         "10-Oct-19"
        ],
        [
         8,
         "Ferenc Pusk�s",
         "�Hungary_Spain",
         "UEFA",
         84,
         89,
         0.94,
         "1945-1962",
         "24-Jul-52"
        ],
        [
         8,
         "Robert Lewandowski",
         "�Poland",
         "UEFA",
         84,
         156,
         0.54,
         "2008-",
         "5-Oct-17"
        ],
        [
         10,
         "Godfrey Chitalu",
         "�Zambia",
         "CAF",
         79,
         111,
         0.71,
         "1968-1980",
         "7-Nov-78"
        ],
        [
         10,
         "Neymar",
         "�Brazil",
         "CONMEBOL",
         79,
         128,
         0.62,
         "2010-",
         "11-Nov-16"
        ],
        [
         12,
         "Hussein Saeed",
         "�Iraq",
         "AFC",
         78,
         137,
         0.57,
         "1977-1990",
         "17-Mar-84"
        ],
        [
         13,
         "Pel�",
         "�Brazil",
         "CONMEBOL",
         77,
         92,
         0.84,
         "1957-1971",
         "4-Jul-65"
        ],
        [
         14,
         "Vivian Woodward",
         "�England_�England amateurs",
         "UEFA",
         75,
         53,
         1.42,
         "1903-1914",
         "31-May-09"
        ],
        [
         14,
         "S�ndor Kocsis",
         "�Hungary",
         "UEFA",
         75,
         68,
         1.1,
         "1948-1956",
         "19-Sep-54"
        ],
        [
         14,
         "Kunishige Kamamoto",
         "�Japan",
         "AFC",
         75,
         76,
         0.99,
         "1964-1977",
         "18-Jul-72"
        ],
        [
         14,
         "Bashar Abdullah",
         "�Kuwait",
         "AFC",
         75,
         134,
         0.56,
         "1996-2007",
         "25-Dec-02"
        ],
        [
         18,
         "Majed Abdullah",
         "�Saudi Arabia",
         "AFC",
         72,
         117,
         0.62,
         "1977-1994",
         "15-Apr-84"
        ],
        [
         19,
         "Kinnah Phiri",
         "�Malawi",
         "CAF",
         71,
         117,
         0.61,
         "1973-1981",
         "6-Jul-78"
        ],
        [
         19,
         "Kiatisuk Senamuang",
         "�Thailand",
         "AFC",
         71,
         134,
         0.53,
         "1993-2007",
         "23-Jan-01"
        ],
        [
         19,
         "Miroslav Klose",
         "�Germany",
         "UEFA",
         71,
         137,
         0.52,
         "2001-2014",
         "27-Jun-10"
        ],
        [
         22,
         "Piyapong Pue-on",
         "�Thailand",
         "AFC",
         70,
         100,
         0.7,
         "1981-1997",
         "30-Jan-89"
        ],
        [
         22,
         "Abdul Kadir",
         "�Indonesia",
         "AFC",
         70,
         111,
         0.63,
         "1967-1979",
         "8-Aug-72"
        ],
        [
         22,
         "Stern John",
         "�Trinidad and Tobago",
         "CONCACAF",
         70,
         115,
         0.61,
         "1995-2012",
         "13-Jun-04"
        ],
        [
         25,
         "Luis Su�rez",
         "�Uruguay",
         "CONMEBOL",
         69,
         143,
         0.48,
         "2007-2024",
         "23-Mar-18"
        ],
        [
         25,
         "Hossam Hassan",
         "�Egypt",
         "CAF",
         69,
         177,
         0.39,
         "1985-2006",
         "25-Feb-98"
        ],
        [
         27,
         "Gerd M�ller",
         "�West Germany",
         "UEFA",
         68,
         62,
         1.1,
         "1966-1974",
         "18-Jun-72"
        ],
        [
         27,
         "Harry Kane",
         "�England",
         "UEFA",
         68,
         102,
         0.67,
         "2015-",
         "7-Jun-22"
        ],
        [
         27,
         "Carlos Ruiz",
         "�Guatemala",
         "CONCACAF",
         68,
         133,
         0.51,
         "1998-2016",
         "15-Aug-12"
        ],
        [
         27,
         "Robbie Keane",
         "�Republic of Ireland",
         "UEFA",
         68,
         146,
         0.47,
         "1998-2016",
         "4-Jun-11"
        ],
        [
         31,
         "Edin D�eko",
         "�Bosnia and Herzegovina",
         "UEFA",
         67,
         138,
         0.49,
         "2007-",
         "28-Mar-17"
        ],
        [
         32,
         "Didier Drogba",
         "�Ivory Coast",
         "CAF",
         65,
         105,
         0.62,
         "2002-2014",
         "13-Jan-12"
        ],
        [
         33,
         "Teerasil Dangda",
         "�Thailand",
         "AFC",
         64,
         128,
         0.5,
         "2007-",
         "14-Dec-21"
        ],
        [
         34,
         "Jasem Al-Huwaidi",
         "�Kuwait",
         "AFC",
         63,
         83,
         0.76,
         "1992-2003",
         "30-Sep-00"
        ],
        [
         35,
         "Ronaldo",
         "�Brazil",
         "CONMEBOL",
         62,
         98,
         0.63,
         "1994-2011",
         "19-Nov-03"
        ],
        [
         35,
         "Ahmed Radhi",
         "�Iraq",
         "AFC",
         62,
         121,
         0.51,
         "1982-1997",
         "18-Aug-92"
        ],
        [
         35,
         "Zlatan Ibrahimovic",
         "�Sweden",
         "UEFA",
         62,
         122,
         0.51,
         "2001-2023",
         "4-Sep-14"
        ],
        [
         38,
         "Abdul Ghani Minhat",
         "�Malaya��Malaysia",
         "AFC",
         61,
         71,
         0.86,
         "1956-1966",
         "15-Dec-61"
        ],
        [
         39,
         "Imre Schlosser",
         "�Hungary",
         "UEFA",
         59,
         68,
         0.87,
         "1906-1927",
         "3-Jun-17"
        ],
        [
         39,
         "Aleksandar Mitrovi?",
         "�Serbia",
         "UEFA",
         59,
         97,
         0.61,
         "2013-",
         "27-Sep-22"
        ],
        [
         39,
         "David Villa",
         "�Spain",
         "UEFA",
         59,
         98,
         0.6,
         "2005-2017",
         "11-Oct-11"
        ],
        [
         39,
         "Mohamed Salah",
         "�Egypt",
         "CAF",
         59,
         103,
         0.57,
         "2011-",
         "24-Mar-23"
        ],
        [
         39,
         "Almoez Ali",
         "�Qatar",
         "AFC",
         59,
         117,
         0.5,
         "2013-",
         "31-Dec-23"
        ],
        [
         44,
         "Ali Ashfaq",
         "�Maldives",
         "AFC",
         58,
         98,
         0.59,
         "2003-2023",
         "29-Mar-16"
        ],
        [
         44,
         "Cha Bum-kun",
         "�South Korea",
         "AFC",
         58,
         136,
         0.43,
         "1972-1986",
         "5-Sep-77"
        ],
        [
         44,
         "Edinson Cavani",
         "�Uruguay",
         "CONMEBOL",
         58,
         136,
         0.43,
         "2008-2022",
         "18-Nov-19"
        ],
        [
         47,
         "Carlos Pav�n",
         "�Honduras",
         "CONCACAF",
         57,
         101,
         0.56,
         "1993-2010",
         "28-Mar-09"
        ],
        [
         47,
         "Olivier Giroud",
         "�France",
         "UEFA",
         57,
         137,
         0.42,
         "2011-2024",
         "22-Nov-22"
        ],
        [
         47,
         "Clint Dempsey",
         "�United States",
         "CONCACAF",
         57,
         141,
         0.4,
         "2004-2018",
         "7-Jun-16"
        ],
        [
         47,
         "Younis Mahmoud",
         "�Iraq",
         "AFC",
         57,
         148,
         0.39,
         "2002-2016",
         "5-Mar-14"
        ],
        [
         47,
         "Landon Donovan",
         "�United States",
         "CONCACAF",
         57,
         157,
         0.36,
         "2000-2014",
         "5-Jul-13"
        ],
        [
         52,
         "Gabriel Batistuta",
         "�Argentina",
         "CONMEBOL",
         56,
         78,
         0.72,
         "1991-2002",
         "29-Jun-00"
        ],
        [
         52,
         "Samuel Eto'o",
         "�Cameroon",
         "CAF",
         56,
         118,
         0.47,
         "1997-2014",
         "3-Sep-11"
        ],
        [
         52,
         "Bader Al-Mutawa",
         "�Kuwait",
         "AFC",
         56,
         196,
         0.29,
         "2003-2022",
         "3-Sep-15"
        ],
        [
         55,
         "Rom�rio",
         "�Brazil",
         "CONMEBOL",
         55,
         70,
         0.79,
         "1987-2005",
         "8-Oct-00"
        ],
        [
         55,
         "Sardar Azmoun",
         "�Iran",
         "AFC",
         55,
         88,
         0.63,
         "2014-",
         "14-Jan-24"
        ],
        [
         55,
         "Kazuyoshi Miura",
         "�Japan",
         "AFC",
         55,
         89,
         0.62,
         "1990-2000",
         "7-Sep-97"
        ],
        [
         55,
         "Jan Koller",
         "�Czech Republic",
         "UEFA",
         55,
         91,
         0.6,
         "1999-2009",
         "8-Sep-07"
        ],
        [
         55,
         "Iswadi Idris",
         "�Indonesia",
         "AFC",
         55,
         97,
         0.57,
         "1968-1980",
         "19-Nov-77"
        ],
        [
         55,
         "Fandi Ahmad",
         "�Singapore",
         "AFC",
         55,
         101,
         0.54,
         "1979-1997",
         "16-Dec-95"
        ],
        [
         55,
         "Joachim Streich",
         "�East Germany",
         "UEFA",
         55,
         102,
         0.54,
         "1969-1984",
         "26-Jul-83"
        ],
        [
         62,
         "Wayne Rooney",
         "�England",
         "UEFA",
         53,
         120,
         0.44,
         "2003-2018",
         "8-Sep-15"
        ],
        [
         63,
         "Poul Nielsen",
         "�Denmark",
         "UEFA",
         52,
         38,
         1.37,
         "1910-1925",
         "14-Jun-25"
        ],
        [
         63,
         "Phil Younghusband",
         "�Philippines",
         "AFC",
         52,
         108,
         0.48,
         "2006-2019",
         "22-Mar-18"
        ],
        [
         63,
         "Javier Hern�ndez",
         "�Mexico",
         "CONCACAF",
         52,
         109,
         0.48,
         "2009-2019",
         "23-Jun-18"
        ],
        [
         63,
         "Jon Dahl Tomasson",
         "�Denmark",
         "UEFA",
         52,
         112,
         0.46,
         "1997-2010",
         "21-Nov-07"
        ],
        [
         63,
         "Yousef Nasser",
         "�Kuwait",
         "AFC",
         52,
         113,
         0.46,
         "2009-",
         "5-Sep-24"
        ],
        [
         63,
         "Adnan Al Talyani",
         "�United Arab Emirates",
         "AFC",
         52,
         161,
         0.32,
         "1983-1997",
         "19-Nov-96"
        ],
        [
         69,
         "Lajos Tichy",
         "�Hungary",
         "UEFA",
         51,
         72,
         0.71,
         "1955-1971",
         "25-Apr-64"
        ],
        [
         69,
         "L� C�ng Vinh",
         "�Vietnam",
         "AFC",
         51,
         83,
         0.61,
         "2004-2016",
         "20-Nov-16"
        ],
        [
         69,
         "Mehdi Taremi",
         "�Iran",
         "AFC",
         51,
         90,
         0.57,
         "2015-",
         "6-Jun-24"
        ],
        [
         69,
         "Asamoah Gyan",
         "�Ghana",
         "CAF",
         51,
         109,
         0.47,
         "2003-2019",
         "11-Jun-17"
        ],
        [
         69,
         "Hakan ?�k�r",
         "�Turkey",
         "UEFA",
         51,
         112,
         0.46,
         "1992-2007",
         "11-Oct-06"
        ],
        [
         69,
         "Thierry Henry",
         "�France",
         "UEFA",
         51,
         123,
         0.41,
         "1997-2010",
         "9-Sep-09"
        ],
        [
         69,
         "Alexis S�nchez",
         "�Chile",
         "CONMEBOL",
         51,
         166,
         0.31,
         "2006-",
         "27-Sep-22"
        ],
        [
         76,
         "Karim Bagheri",
         "�Iran",
         "AFC",
         50,
         87,
         0.57,
         "1993-2010",
         "9-Jan-09"
        ],
        [
         76,
         "Robin van Persie",
         "�Netherlands",
         "UEFA",
         50,
         102,
         0.49,
         "2005-2017",
         "13-Oct-15"
        ],
        [
         76,
         "Hwang Sun-hong",
         "�South Korea",
         "AFC",
         50,
         103,
         0.49,
         "1988-2002",
         "4-Jun-02"
        ],
        [
         76,
         "Tim Cahill",
         "�Australia",
         "AFC /�OFC",
         50,
         108,
         0.46,
         "2004-2018",
         "10-Oct-17"
        ],
        [
         76,
         "Shinji Okazaki",
         "�Japan",
         "AFC",
         50,
         119,
         0.42,
         "2008-2019",
         "28-Mar-17"
        ],
        [
         76,
         "Zainal Abidin Hassan",
         "�Malaysia",
         "AFC",
         50,
         129,
         0.39,
         "1980-1997",
         "31-Mar-97"
        ],
        [
         76,
         "Son Heung-min",
         "�South Korea",
         "AFC",
         50,
         130,
         0.38,
         "2010-",
         "14-Nov-24"
        ]
       ],
       "datasetInfos": [],
       "dbfsResultPath": null,
       "isJsonSchema": true,
       "metadata": {},
       "overflow": false,
       "plotOptions": {
        "customPlotOptions": {},
        "displayType": "table",
        "pivotAggregation": null,
        "pivotColumns": null,
        "xColumns": null,
        "yColumns": null
       },
       "removedWidgets": [],
       "schema": [
        {
         "metadata": "{}",
         "name": "Rank",
         "type": "\"integer\""
        },
        {
         "metadata": "{}",
         "name": "Player",
         "type": "\"string\""
        },
        {
         "metadata": "{}",
         "name": "Nation",
         "type": "\"string\""
        },
        {
         "metadata": "{}",
         "name": "Confederation",
         "type": "\"string\""
        },
        {
         "metadata": "{}",
         "name": "Goals",
         "type": "\"integer\""
        },
        {
         "metadata": "{}",
         "name": "Caps",
         "type": "\"integer\""
        },
        {
         "metadata": "{}",
         "name": "Goal_per_match",
         "type": "\"double\""
        },
        {
         "metadata": "{}",
         "name": "Career_span",
         "type": "\"string\""
        },
        {
         "metadata": "{}",
         "name": "Date_of_50th_goal",
         "type": "\"string\""
        }
       ],
       "type": "table"
      }
     },
     "output_type": "display_data"
    },
    {
     "output_type": "stream",
     "name": "stdout",
     "output_type": "stream",
     "text": [
      "root\n |-- Rank: integer (nullable = true)\n |-- Player: string (nullable = true)\n |-- Nation: string (nullable = true)\n |-- Confederation: string (nullable = true)\n |-- Goals: integer (nullable = true)\n |-- Caps: integer (nullable = true)\n |-- Goal_per_match: double (nullable = true)\n |-- Career_span: string (nullable = true)\n |-- Date_of_50th_goal: string (nullable = true)\n\n"
     ]
    }
   ],
   "source": [
    "# read the csv file\n",
    "\n",
    "df = spark.read.format(\"csv\").option(\"inferSchema\", True).option(\"header\",True).load('/FileStore/tables/kgds.csv')\n",
    "\n",
    "df.display()\n",
    "df.printSchema()\n"
   ]
  },
  {
   "cell_type": "code",
   "execution_count": 0,
   "metadata": {
    "application/vnd.databricks.v1+cell": {
     "cellMetadata": {
      "byteLimit": 2048000,
      "rowLimit": 10000
     },
     "inputWidgets": {},
     "nuid": "09740c6a-6e94-49e6-b8ea-601ee39d8167",
     "showTitle": false,
     "tableResultSettingsMap": {},
     "title": ""
    }
   },
   "outputs": [],
   "source": [
    "my_ddl_schema = ''' rank Integer, player String, nation String, Confederation String, golas String,caps String, goals_per_match Integer, Career_span String, Date_of_50th_goal String '''"
   ]
  },
  {
   "cell_type": "code",
   "execution_count": 0,
   "metadata": {
    "application/vnd.databricks.v1+cell": {
     "cellMetadata": {
      "byteLimit": 2048000,
      "rowLimit": 10000
     },
     "inputWidgets": {},
     "nuid": "9dfab79d-e960-4c8f-bff3-3030b229684c",
     "showTitle": false,
     "tableResultSettingsMap": {},
     "title": ""
    }
   },
   "outputs": [
    {
     "output_type": "display_data",
     "data": {
      "text/html": [
       "<style scoped>\n",
       "  .table-result-container {\n",
       "    max-height: 300px;\n",
       "    overflow: auto;\n",
       "  }\n",
       "  table, th, td {\n",
       "    border: 1px solid black;\n",
       "    border-collapse: collapse;\n",
       "  }\n",
       "  th, td {\n",
       "    padding: 5px;\n",
       "  }\n",
       "  th {\n",
       "    text-align: left;\n",
       "  }\n",
       "</style><div class='table-result-container'><table class='table-result'><thead style='background-color: white'><tr><th>rank</th><th>player</th><th>nation</th><th>Confederation</th><th>golas</th><th>caps</th><th>goals_per_match</th><th>Career_span</th><th>Date_of_50th_goal</th></tr></thead><tbody><tr><td>1</td><td>Cristiano Ronaldo</td><td>�Portugal</td><td>UEFA</td><td>135</td><td>217</td><td>null</td><td>2003-</td><td>26-Jun-14</td></tr><tr><td>2</td><td>Lionel Messi</td><td>�Argentina</td><td>CONMEBOL</td><td>112</td><td>190</td><td>null</td><td>2005-</td><td>29-Mar-16</td></tr><tr><td>3</td><td>Ali Daei</td><td>�Iran</td><td>AFC</td><td>108</td><td>148</td><td>null</td><td>1993-2006</td><td>9-Jan-00</td></tr><tr><td>4</td><td>Sunil Chhetri</td><td>�India</td><td>AFC</td><td>94</td><td>151</td><td>null</td><td>2005-2024</td><td>31-Dec-15</td></tr><tr><td>5</td><td>Mokhtar Dahari</td><td>�Malaysia</td><td>AFC</td><td>89</td><td>142</td><td>null</td><td>1972-1985</td><td>22-Aug-76</td></tr><tr><td>6</td><td>Ali Mabkhout</td><td>�United Arab Emirates</td><td>AFC</td><td>85</td><td>115</td><td>null</td><td>2009-</td><td>31-Aug-19</td></tr><tr><td>6</td><td>Romelu Lukaku</td><td>�Belgium</td><td>UEFA</td><td>85</td><td>120</td><td>null</td><td>2010-</td><td>10-Oct-19</td></tr><tr><td>8</td><td>Ferenc Pusk�s</td><td>�Hungary_Spain</td><td>UEFA</td><td>84</td><td>89</td><td>null</td><td>1945-1962</td><td>24-Jul-52</td></tr><tr><td>8</td><td>Robert Lewandowski</td><td>�Poland</td><td>UEFA</td><td>84</td><td>156</td><td>null</td><td>2008-</td><td>5-Oct-17</td></tr><tr><td>10</td><td>Godfrey Chitalu</td><td>�Zambia</td><td>CAF</td><td>79</td><td>111</td><td>null</td><td>1968-1980</td><td>7-Nov-78</td></tr><tr><td>10</td><td>Neymar</td><td>�Brazil</td><td>CONMEBOL</td><td>79</td><td>128</td><td>null</td><td>2010-</td><td>11-Nov-16</td></tr><tr><td>12</td><td>Hussein Saeed</td><td>�Iraq</td><td>AFC</td><td>78</td><td>137</td><td>null</td><td>1977-1990</td><td>17-Mar-84</td></tr><tr><td>13</td><td>Pel�</td><td>�Brazil</td><td>CONMEBOL</td><td>77</td><td>92</td><td>null</td><td>1957-1971</td><td>4-Jul-65</td></tr><tr><td>14</td><td>Vivian Woodward</td><td>�England_�England amateurs</td><td>UEFA</td><td>75</td><td>53</td><td>null</td><td>1903-1914</td><td>31-May-09</td></tr><tr><td>14</td><td>S�ndor Kocsis</td><td>�Hungary</td><td>UEFA</td><td>75</td><td>68</td><td>null</td><td>1948-1956</td><td>19-Sep-54</td></tr><tr><td>14</td><td>Kunishige Kamamoto</td><td>�Japan</td><td>AFC</td><td>75</td><td>76</td><td>null</td><td>1964-1977</td><td>18-Jul-72</td></tr><tr><td>14</td><td>Bashar Abdullah</td><td>�Kuwait</td><td>AFC</td><td>75</td><td>134</td><td>null</td><td>1996-2007</td><td>25-Dec-02</td></tr><tr><td>18</td><td>Majed Abdullah</td><td>�Saudi Arabia</td><td>AFC</td><td>72</td><td>117</td><td>null</td><td>1977-1994</td><td>15-Apr-84</td></tr><tr><td>19</td><td>Kinnah Phiri</td><td>�Malawi</td><td>CAF</td><td>71</td><td>117</td><td>null</td><td>1973-1981</td><td>6-Jul-78</td></tr><tr><td>19</td><td>Kiatisuk Senamuang</td><td>�Thailand</td><td>AFC</td><td>71</td><td>134</td><td>null</td><td>1993-2007</td><td>23-Jan-01</td></tr><tr><td>19</td><td>Miroslav Klose</td><td>�Germany</td><td>UEFA</td><td>71</td><td>137</td><td>null</td><td>2001-2014</td><td>27-Jun-10</td></tr><tr><td>22</td><td>Piyapong Pue-on</td><td>�Thailand</td><td>AFC</td><td>70</td><td>100</td><td>null</td><td>1981-1997</td><td>30-Jan-89</td></tr><tr><td>22</td><td>Abdul Kadir</td><td>�Indonesia</td><td>AFC</td><td>70</td><td>111</td><td>null</td><td>1967-1979</td><td>8-Aug-72</td></tr><tr><td>22</td><td>Stern John</td><td>�Trinidad and Tobago</td><td>CONCACAF</td><td>70</td><td>115</td><td>null</td><td>1995-2012</td><td>13-Jun-04</td></tr><tr><td>25</td><td>Luis Su�rez</td><td>�Uruguay</td><td>CONMEBOL</td><td>69</td><td>143</td><td>null</td><td>2007-2024</td><td>23-Mar-18</td></tr><tr><td>25</td><td>Hossam Hassan</td><td>�Egypt</td><td>CAF</td><td>69</td><td>177</td><td>null</td><td>1985-2006</td><td>25-Feb-98</td></tr><tr><td>27</td><td>Gerd M�ller</td><td>�West Germany</td><td>UEFA</td><td>68</td><td>62</td><td>null</td><td>1966-1974</td><td>18-Jun-72</td></tr><tr><td>27</td><td>Harry Kane</td><td>�England</td><td>UEFA</td><td>68</td><td>102</td><td>null</td><td>2015-</td><td>7-Jun-22</td></tr><tr><td>27</td><td>Carlos Ruiz</td><td>�Guatemala</td><td>CONCACAF</td><td>68</td><td>133</td><td>null</td><td>1998-2016</td><td>15-Aug-12</td></tr><tr><td>27</td><td>Robbie Keane</td><td>�Republic of Ireland</td><td>UEFA</td><td>68</td><td>146</td><td>null</td><td>1998-2016</td><td>4-Jun-11</td></tr><tr><td>31</td><td>Edin D�eko</td><td>�Bosnia and Herzegovina</td><td>UEFA</td><td>67</td><td>138</td><td>null</td><td>2007-</td><td>28-Mar-17</td></tr><tr><td>32</td><td>Didier Drogba</td><td>�Ivory Coast</td><td>CAF</td><td>65</td><td>105</td><td>null</td><td>2002-2014</td><td>13-Jan-12</td></tr><tr><td>33</td><td>Teerasil Dangda</td><td>�Thailand</td><td>AFC</td><td>64</td><td>128</td><td>null</td><td>2007-</td><td>14-Dec-21</td></tr><tr><td>34</td><td>Jasem Al-Huwaidi</td><td>�Kuwait</td><td>AFC</td><td>63</td><td>83</td><td>null</td><td>1992-2003</td><td>30-Sep-00</td></tr><tr><td>35</td><td>Ronaldo</td><td>�Brazil</td><td>CONMEBOL</td><td>62</td><td>98</td><td>null</td><td>1994-2011</td><td>19-Nov-03</td></tr><tr><td>35</td><td>Ahmed Radhi</td><td>�Iraq</td><td>AFC</td><td>62</td><td>121</td><td>null</td><td>1982-1997</td><td>18-Aug-92</td></tr><tr><td>35</td><td>Zlatan Ibrahimovic</td><td>�Sweden</td><td>UEFA</td><td>62</td><td>122</td><td>null</td><td>2001-2023</td><td>4-Sep-14</td></tr><tr><td>38</td><td>Abdul Ghani Minhat</td><td>�Malaya��Malaysia</td><td>AFC</td><td>61</td><td>71</td><td>null</td><td>1956-1966</td><td>15-Dec-61</td></tr><tr><td>39</td><td>Imre Schlosser</td><td>�Hungary</td><td>UEFA</td><td>59</td><td>68</td><td>null</td><td>1906-1927</td><td>3-Jun-17</td></tr><tr><td>39</td><td>Aleksandar Mitrovi?</td><td>�Serbia</td><td>UEFA</td><td>59</td><td>97</td><td>null</td><td>2013-</td><td>27-Sep-22</td></tr><tr><td>39</td><td>David Villa</td><td>�Spain</td><td>UEFA</td><td>59</td><td>98</td><td>null</td><td>2005-2017</td><td>11-Oct-11</td></tr><tr><td>39</td><td>Mohamed Salah</td><td>�Egypt</td><td>CAF</td><td>59</td><td>103</td><td>null</td><td>2011-</td><td>24-Mar-23</td></tr><tr><td>39</td><td>Almoez Ali</td><td>�Qatar</td><td>AFC</td><td>59</td><td>117</td><td>null</td><td>2013-</td><td>31-Dec-23</td></tr><tr><td>44</td><td>Ali Ashfaq</td><td>�Maldives</td><td>AFC</td><td>58</td><td>98</td><td>null</td><td>2003-2023</td><td>29-Mar-16</td></tr><tr><td>44</td><td>Cha Bum-kun</td><td>�South Korea</td><td>AFC</td><td>58</td><td>136</td><td>null</td><td>1972-1986</td><td>5-Sep-77</td></tr><tr><td>44</td><td>Edinson Cavani</td><td>�Uruguay</td><td>CONMEBOL</td><td>58</td><td>136</td><td>null</td><td>2008-2022</td><td>18-Nov-19</td></tr><tr><td>47</td><td>Carlos Pav�n</td><td>�Honduras</td><td>CONCACAF</td><td>57</td><td>101</td><td>null</td><td>1993-2010</td><td>28-Mar-09</td></tr><tr><td>47</td><td>Olivier Giroud</td><td>�France</td><td>UEFA</td><td>57</td><td>137</td><td>null</td><td>2011-2024</td><td>22-Nov-22</td></tr><tr><td>47</td><td>Clint Dempsey</td><td>�United States</td><td>CONCACAF</td><td>57</td><td>141</td><td>null</td><td>2004-2018</td><td>7-Jun-16</td></tr><tr><td>47</td><td>Younis Mahmoud</td><td>�Iraq</td><td>AFC</td><td>57</td><td>148</td><td>null</td><td>2002-2016</td><td>5-Mar-14</td></tr><tr><td>47</td><td>Landon Donovan</td><td>�United States</td><td>CONCACAF</td><td>57</td><td>157</td><td>null</td><td>2000-2014</td><td>5-Jul-13</td></tr><tr><td>52</td><td>Gabriel Batistuta</td><td>�Argentina</td><td>CONMEBOL</td><td>56</td><td>78</td><td>null</td><td>1991-2002</td><td>29-Jun-00</td></tr><tr><td>52</td><td>Samuel Eto'o</td><td>�Cameroon</td><td>CAF</td><td>56</td><td>118</td><td>null</td><td>1997-2014</td><td>3-Sep-11</td></tr><tr><td>52</td><td>Bader Al-Mutawa</td><td>�Kuwait</td><td>AFC</td><td>56</td><td>196</td><td>null</td><td>2003-2022</td><td>3-Sep-15</td></tr><tr><td>55</td><td>Rom�rio</td><td>�Brazil</td><td>CONMEBOL</td><td>55</td><td>70</td><td>null</td><td>1987-2005</td><td>8-Oct-00</td></tr><tr><td>55</td><td>Sardar Azmoun</td><td>�Iran</td><td>AFC</td><td>55</td><td>88</td><td>null</td><td>2014-</td><td>14-Jan-24</td></tr><tr><td>55</td><td>Kazuyoshi Miura</td><td>�Japan</td><td>AFC</td><td>55</td><td>89</td><td>null</td><td>1990-2000</td><td>7-Sep-97</td></tr><tr><td>55</td><td>Jan Koller</td><td>�Czech Republic</td><td>UEFA</td><td>55</td><td>91</td><td>null</td><td>1999-2009</td><td>8-Sep-07</td></tr><tr><td>55</td><td>Iswadi Idris</td><td>�Indonesia</td><td>AFC</td><td>55</td><td>97</td><td>null</td><td>1968-1980</td><td>19-Nov-77</td></tr><tr><td>55</td><td>Fandi Ahmad</td><td>�Singapore</td><td>AFC</td><td>55</td><td>101</td><td>null</td><td>1979-1997</td><td>16-Dec-95</td></tr><tr><td>55</td><td>Joachim Streich</td><td>�East Germany</td><td>UEFA</td><td>55</td><td>102</td><td>null</td><td>1969-1984</td><td>26-Jul-83</td></tr><tr><td>62</td><td>Wayne Rooney</td><td>�England</td><td>UEFA</td><td>53</td><td>120</td><td>null</td><td>2003-2018</td><td>8-Sep-15</td></tr><tr><td>63</td><td>Poul Nielsen</td><td>�Denmark</td><td>UEFA</td><td>52</td><td>38</td><td>null</td><td>1910-1925</td><td>14-Jun-25</td></tr><tr><td>63</td><td>Phil Younghusband</td><td>�Philippines</td><td>AFC</td><td>52</td><td>108</td><td>null</td><td>2006-2019</td><td>22-Mar-18</td></tr><tr><td>63</td><td>Javier Hern�ndez</td><td>�Mexico</td><td>CONCACAF</td><td>52</td><td>109</td><td>null</td><td>2009-2019</td><td>23-Jun-18</td></tr><tr><td>63</td><td>Jon Dahl Tomasson</td><td>�Denmark</td><td>UEFA</td><td>52</td><td>112</td><td>null</td><td>1997-2010</td><td>21-Nov-07</td></tr><tr><td>63</td><td>Yousef Nasser</td><td>�Kuwait</td><td>AFC</td><td>52</td><td>113</td><td>null</td><td>2009-</td><td>5-Sep-24</td></tr><tr><td>63</td><td>Adnan Al Talyani</td><td>�United Arab Emirates</td><td>AFC</td><td>52</td><td>161</td><td>null</td><td>1983-1997</td><td>19-Nov-96</td></tr><tr><td>69</td><td>Lajos Tichy</td><td>�Hungary</td><td>UEFA</td><td>51</td><td>72</td><td>null</td><td>1955-1971</td><td>25-Apr-64</td></tr><tr><td>69</td><td>L� C�ng Vinh</td><td>�Vietnam</td><td>AFC</td><td>51</td><td>83</td><td>null</td><td>2004-2016</td><td>20-Nov-16</td></tr><tr><td>69</td><td>Mehdi Taremi</td><td>�Iran</td><td>AFC</td><td>51</td><td>90</td><td>null</td><td>2015-</td><td>6-Jun-24</td></tr><tr><td>69</td><td>Asamoah Gyan</td><td>�Ghana</td><td>CAF</td><td>51</td><td>109</td><td>null</td><td>2003-2019</td><td>11-Jun-17</td></tr><tr><td>69</td><td>Hakan ?�k�r</td><td>�Turkey</td><td>UEFA</td><td>51</td><td>112</td><td>null</td><td>1992-2007</td><td>11-Oct-06</td></tr><tr><td>69</td><td>Thierry Henry</td><td>�France</td><td>UEFA</td><td>51</td><td>123</td><td>null</td><td>1997-2010</td><td>9-Sep-09</td></tr><tr><td>69</td><td>Alexis S�nchez</td><td>�Chile</td><td>CONMEBOL</td><td>51</td><td>166</td><td>null</td><td>2006-</td><td>27-Sep-22</td></tr><tr><td>76</td><td>Karim Bagheri</td><td>�Iran</td><td>AFC</td><td>50</td><td>87</td><td>null</td><td>1993-2010</td><td>9-Jan-09</td></tr><tr><td>76</td><td>Robin van Persie</td><td>�Netherlands</td><td>UEFA</td><td>50</td><td>102</td><td>null</td><td>2005-2017</td><td>13-Oct-15</td></tr><tr><td>76</td><td>Hwang Sun-hong</td><td>�South Korea</td><td>AFC</td><td>50</td><td>103</td><td>null</td><td>1988-2002</td><td>4-Jun-02</td></tr><tr><td>76</td><td>Tim Cahill</td><td>�Australia</td><td>AFC /�OFC</td><td>50</td><td>108</td><td>null</td><td>2004-2018</td><td>10-Oct-17</td></tr><tr><td>76</td><td>Shinji Okazaki</td><td>�Japan</td><td>AFC</td><td>50</td><td>119</td><td>null</td><td>2008-2019</td><td>28-Mar-17</td></tr><tr><td>76</td><td>Zainal Abidin Hassan</td><td>�Malaysia</td><td>AFC</td><td>50</td><td>129</td><td>null</td><td>1980-1997</td><td>31-Mar-97</td></tr><tr><td>76</td><td>Son Heung-min</td><td>�South Korea</td><td>AFC</td><td>50</td><td>130</td><td>null</td><td>2010-</td><td>14-Nov-24</td></tr></tbody></table></div>"
      ]
     },
     "metadata": {
      "application/vnd.databricks.v1+output": {
       "addedWidgets": {},
       "aggData": [],
       "aggError": "",
       "aggOverflow": false,
       "aggSchema": [],
       "aggSeriesLimitReached": false,
       "aggType": "",
       "arguments": {},
       "columnCustomDisplayInfos": {},
       "data": [
        [
         1,
         "Cristiano Ronaldo",
         "�Portugal",
         "UEFA",
         "135",
         "217",
         null,
         "2003-",
         "26-Jun-14"
        ],
        [
         2,
         "Lionel Messi",
         "�Argentina",
         "CONMEBOL",
         "112",
         "190",
         null,
         "2005-",
         "29-Mar-16"
        ],
        [
         3,
         "Ali Daei",
         "�Iran",
         "AFC",
         "108",
         "148",
         null,
         "1993-2006",
         "9-Jan-00"
        ],
        [
         4,
         "Sunil Chhetri",
         "�India",
         "AFC",
         "94",
         "151",
         null,
         "2005-2024",
         "31-Dec-15"
        ],
        [
         5,
         "Mokhtar Dahari",
         "�Malaysia",
         "AFC",
         "89",
         "142",
         null,
         "1972-1985",
         "22-Aug-76"
        ],
        [
         6,
         "Ali Mabkhout",
         "�United Arab Emirates",
         "AFC",
         "85",
         "115",
         null,
         "2009-",
         "31-Aug-19"
        ],
        [
         6,
         "Romelu Lukaku",
         "�Belgium",
         "UEFA",
         "85",
         "120",
         null,
         "2010-",
         "10-Oct-19"
        ],
        [
         8,
         "Ferenc Pusk�s",
         "�Hungary_Spain",
         "UEFA",
         "84",
         "89",
         null,
         "1945-1962",
         "24-Jul-52"
        ],
        [
         8,
         "Robert Lewandowski",
         "�Poland",
         "UEFA",
         "84",
         "156",
         null,
         "2008-",
         "5-Oct-17"
        ],
        [
         10,
         "Godfrey Chitalu",
         "�Zambia",
         "CAF",
         "79",
         "111",
         null,
         "1968-1980",
         "7-Nov-78"
        ],
        [
         10,
         "Neymar",
         "�Brazil",
         "CONMEBOL",
         "79",
         "128",
         null,
         "2010-",
         "11-Nov-16"
        ],
        [
         12,
         "Hussein Saeed",
         "�Iraq",
         "AFC",
         "78",
         "137",
         null,
         "1977-1990",
         "17-Mar-84"
        ],
        [
         13,
         "Pel�",
         "�Brazil",
         "CONMEBOL",
         "77",
         "92",
         null,
         "1957-1971",
         "4-Jul-65"
        ],
        [
         14,
         "Vivian Woodward",
         "�England_�England amateurs",
         "UEFA",
         "75",
         "53",
         null,
         "1903-1914",
         "31-May-09"
        ],
        [
         14,
         "S�ndor Kocsis",
         "�Hungary",
         "UEFA",
         "75",
         "68",
         null,
         "1948-1956",
         "19-Sep-54"
        ],
        [
         14,
         "Kunishige Kamamoto",
         "�Japan",
         "AFC",
         "75",
         "76",
         null,
         "1964-1977",
         "18-Jul-72"
        ],
        [
         14,
         "Bashar Abdullah",
         "�Kuwait",
         "AFC",
         "75",
         "134",
         null,
         "1996-2007",
         "25-Dec-02"
        ],
        [
         18,
         "Majed Abdullah",
         "�Saudi Arabia",
         "AFC",
         "72",
         "117",
         null,
         "1977-1994",
         "15-Apr-84"
        ],
        [
         19,
         "Kinnah Phiri",
         "�Malawi",
         "CAF",
         "71",
         "117",
         null,
         "1973-1981",
         "6-Jul-78"
        ],
        [
         19,
         "Kiatisuk Senamuang",
         "�Thailand",
         "AFC",
         "71",
         "134",
         null,
         "1993-2007",
         "23-Jan-01"
        ],
        [
         19,
         "Miroslav Klose",
         "�Germany",
         "UEFA",
         "71",
         "137",
         null,
         "2001-2014",
         "27-Jun-10"
        ],
        [
         22,
         "Piyapong Pue-on",
         "�Thailand",
         "AFC",
         "70",
         "100",
         null,
         "1981-1997",
         "30-Jan-89"
        ],
        [
         22,
         "Abdul Kadir",
         "�Indonesia",
         "AFC",
         "70",
         "111",
         null,
         "1967-1979",
         "8-Aug-72"
        ],
        [
         22,
         "Stern John",
         "�Trinidad and Tobago",
         "CONCACAF",
         "70",
         "115",
         null,
         "1995-2012",
         "13-Jun-04"
        ],
        [
         25,
         "Luis Su�rez",
         "�Uruguay",
         "CONMEBOL",
         "69",
         "143",
         null,
         "2007-2024",
         "23-Mar-18"
        ],
        [
         25,
         "Hossam Hassan",
         "�Egypt",
         "CAF",
         "69",
         "177",
         null,
         "1985-2006",
         "25-Feb-98"
        ],
        [
         27,
         "Gerd M�ller",
         "�West Germany",
         "UEFA",
         "68",
         "62",
         null,
         "1966-1974",
         "18-Jun-72"
        ],
        [
         27,
         "Harry Kane",
         "�England",
         "UEFA",
         "68",
         "102",
         null,
         "2015-",
         "7-Jun-22"
        ],
        [
         27,
         "Carlos Ruiz",
         "�Guatemala",
         "CONCACAF",
         "68",
         "133",
         null,
         "1998-2016",
         "15-Aug-12"
        ],
        [
         27,
         "Robbie Keane",
         "�Republic of Ireland",
         "UEFA",
         "68",
         "146",
         null,
         "1998-2016",
         "4-Jun-11"
        ],
        [
         31,
         "Edin D�eko",
         "�Bosnia and Herzegovina",
         "UEFA",
         "67",
         "138",
         null,
         "2007-",
         "28-Mar-17"
        ],
        [
         32,
         "Didier Drogba",
         "�Ivory Coast",
         "CAF",
         "65",
         "105",
         null,
         "2002-2014",
         "13-Jan-12"
        ],
        [
         33,
         "Teerasil Dangda",
         "�Thailand",
         "AFC",
         "64",
         "128",
         null,
         "2007-",
         "14-Dec-21"
        ],
        [
         34,
         "Jasem Al-Huwaidi",
         "�Kuwait",
         "AFC",
         "63",
         "83",
         null,
         "1992-2003",
         "30-Sep-00"
        ],
        [
         35,
         "Ronaldo",
         "�Brazil",
         "CONMEBOL",
         "62",
         "98",
         null,
         "1994-2011",
         "19-Nov-03"
        ],
        [
         35,
         "Ahmed Radhi",
         "�Iraq",
         "AFC",
         "62",
         "121",
         null,
         "1982-1997",
         "18-Aug-92"
        ],
        [
         35,
         "Zlatan Ibrahimovic",
         "�Sweden",
         "UEFA",
         "62",
         "122",
         null,
         "2001-2023",
         "4-Sep-14"
        ],
        [
         38,
         "Abdul Ghani Minhat",
         "�Malaya��Malaysia",
         "AFC",
         "61",
         "71",
         null,
         "1956-1966",
         "15-Dec-61"
        ],
        [
         39,
         "Imre Schlosser",
         "�Hungary",
         "UEFA",
         "59",
         "68",
         null,
         "1906-1927",
         "3-Jun-17"
        ],
        [
         39,
         "Aleksandar Mitrovi?",
         "�Serbia",
         "UEFA",
         "59",
         "97",
         null,
         "2013-",
         "27-Sep-22"
        ],
        [
         39,
         "David Villa",
         "�Spain",
         "UEFA",
         "59",
         "98",
         null,
         "2005-2017",
         "11-Oct-11"
        ],
        [
         39,
         "Mohamed Salah",
         "�Egypt",
         "CAF",
         "59",
         "103",
         null,
         "2011-",
         "24-Mar-23"
        ],
        [
         39,
         "Almoez Ali",
         "�Qatar",
         "AFC",
         "59",
         "117",
         null,
         "2013-",
         "31-Dec-23"
        ],
        [
         44,
         "Ali Ashfaq",
         "�Maldives",
         "AFC",
         "58",
         "98",
         null,
         "2003-2023",
         "29-Mar-16"
        ],
        [
         44,
         "Cha Bum-kun",
         "�South Korea",
         "AFC",
         "58",
         "136",
         null,
         "1972-1986",
         "5-Sep-77"
        ],
        [
         44,
         "Edinson Cavani",
         "�Uruguay",
         "CONMEBOL",
         "58",
         "136",
         null,
         "2008-2022",
         "18-Nov-19"
        ],
        [
         47,
         "Carlos Pav�n",
         "�Honduras",
         "CONCACAF",
         "57",
         "101",
         null,
         "1993-2010",
         "28-Mar-09"
        ],
        [
         47,
         "Olivier Giroud",
         "�France",
         "UEFA",
         "57",
         "137",
         null,
         "2011-2024",
         "22-Nov-22"
        ],
        [
         47,
         "Clint Dempsey",
         "�United States",
         "CONCACAF",
         "57",
         "141",
         null,
         "2004-2018",
         "7-Jun-16"
        ],
        [
         47,
         "Younis Mahmoud",
         "�Iraq",
         "AFC",
         "57",
         "148",
         null,
         "2002-2016",
         "5-Mar-14"
        ],
        [
         47,
         "Landon Donovan",
         "�United States",
         "CONCACAF",
         "57",
         "157",
         null,
         "2000-2014",
         "5-Jul-13"
        ],
        [
         52,
         "Gabriel Batistuta",
         "�Argentina",
         "CONMEBOL",
         "56",
         "78",
         null,
         "1991-2002",
         "29-Jun-00"
        ],
        [
         52,
         "Samuel Eto'o",
         "�Cameroon",
         "CAF",
         "56",
         "118",
         null,
         "1997-2014",
         "3-Sep-11"
        ],
        [
         52,
         "Bader Al-Mutawa",
         "�Kuwait",
         "AFC",
         "56",
         "196",
         null,
         "2003-2022",
         "3-Sep-15"
        ],
        [
         55,
         "Rom�rio",
         "�Brazil",
         "CONMEBOL",
         "55",
         "70",
         null,
         "1987-2005",
         "8-Oct-00"
        ],
        [
         55,
         "Sardar Azmoun",
         "�Iran",
         "AFC",
         "55",
         "88",
         null,
         "2014-",
         "14-Jan-24"
        ],
        [
         55,
         "Kazuyoshi Miura",
         "�Japan",
         "AFC",
         "55",
         "89",
         null,
         "1990-2000",
         "7-Sep-97"
        ],
        [
         55,
         "Jan Koller",
         "�Czech Republic",
         "UEFA",
         "55",
         "91",
         null,
         "1999-2009",
         "8-Sep-07"
        ],
        [
         55,
         "Iswadi Idris",
         "�Indonesia",
         "AFC",
         "55",
         "97",
         null,
         "1968-1980",
         "19-Nov-77"
        ],
        [
         55,
         "Fandi Ahmad",
         "�Singapore",
         "AFC",
         "55",
         "101",
         null,
         "1979-1997",
         "16-Dec-95"
        ],
        [
         55,
         "Joachim Streich",
         "�East Germany",
         "UEFA",
         "55",
         "102",
         null,
         "1969-1984",
         "26-Jul-83"
        ],
        [
         62,
         "Wayne Rooney",
         "�England",
         "UEFA",
         "53",
         "120",
         null,
         "2003-2018",
         "8-Sep-15"
        ],
        [
         63,
         "Poul Nielsen",
         "�Denmark",
         "UEFA",
         "52",
         "38",
         null,
         "1910-1925",
         "14-Jun-25"
        ],
        [
         63,
         "Phil Younghusband",
         "�Philippines",
         "AFC",
         "52",
         "108",
         null,
         "2006-2019",
         "22-Mar-18"
        ],
        [
         63,
         "Javier Hern�ndez",
         "�Mexico",
         "CONCACAF",
         "52",
         "109",
         null,
         "2009-2019",
         "23-Jun-18"
        ],
        [
         63,
         "Jon Dahl Tomasson",
         "�Denmark",
         "UEFA",
         "52",
         "112",
         null,
         "1997-2010",
         "21-Nov-07"
        ],
        [
         63,
         "Yousef Nasser",
         "�Kuwait",
         "AFC",
         "52",
         "113",
         null,
         "2009-",
         "5-Sep-24"
        ],
        [
         63,
         "Adnan Al Talyani",
         "�United Arab Emirates",
         "AFC",
         "52",
         "161",
         null,
         "1983-1997",
         "19-Nov-96"
        ],
        [
         69,
         "Lajos Tichy",
         "�Hungary",
         "UEFA",
         "51",
         "72",
         null,
         "1955-1971",
         "25-Apr-64"
        ],
        [
         69,
         "L� C�ng Vinh",
         "�Vietnam",
         "AFC",
         "51",
         "83",
         null,
         "2004-2016",
         "20-Nov-16"
        ],
        [
         69,
         "Mehdi Taremi",
         "�Iran",
         "AFC",
         "51",
         "90",
         null,
         "2015-",
         "6-Jun-24"
        ],
        [
         69,
         "Asamoah Gyan",
         "�Ghana",
         "CAF",
         "51",
         "109",
         null,
         "2003-2019",
         "11-Jun-17"
        ],
        [
         69,
         "Hakan ?�k�r",
         "�Turkey",
         "UEFA",
         "51",
         "112",
         null,
         "1992-2007",
         "11-Oct-06"
        ],
        [
         69,
         "Thierry Henry",
         "�France",
         "UEFA",
         "51",
         "123",
         null,
         "1997-2010",
         "9-Sep-09"
        ],
        [
         69,
         "Alexis S�nchez",
         "�Chile",
         "CONMEBOL",
         "51",
         "166",
         null,
         "2006-",
         "27-Sep-22"
        ],
        [
         76,
         "Karim Bagheri",
         "�Iran",
         "AFC",
         "50",
         "87",
         null,
         "1993-2010",
         "9-Jan-09"
        ],
        [
         76,
         "Robin van Persie",
         "�Netherlands",
         "UEFA",
         "50",
         "102",
         null,
         "2005-2017",
         "13-Oct-15"
        ],
        [
         76,
         "Hwang Sun-hong",
         "�South Korea",
         "AFC",
         "50",
         "103",
         null,
         "1988-2002",
         "4-Jun-02"
        ],
        [
         76,
         "Tim Cahill",
         "�Australia",
         "AFC /�OFC",
         "50",
         "108",
         null,
         "2004-2018",
         "10-Oct-17"
        ],
        [
         76,
         "Shinji Okazaki",
         "�Japan",
         "AFC",
         "50",
         "119",
         null,
         "2008-2019",
         "28-Mar-17"
        ],
        [
         76,
         "Zainal Abidin Hassan",
         "�Malaysia",
         "AFC",
         "50",
         "129",
         null,
         "1980-1997",
         "31-Mar-97"
        ],
        [
         76,
         "Son Heung-min",
         "�South Korea",
         "AFC",
         "50",
         "130",
         null,
         "2010-",
         "14-Nov-24"
        ]
       ],
       "datasetInfos": [],
       "dbfsResultPath": null,
       "isJsonSchema": true,
       "metadata": {},
       "overflow": false,
       "plotOptions": {
        "customPlotOptions": {},
        "displayType": "table",
        "pivotAggregation": null,
        "pivotColumns": null,
        "xColumns": null,
        "yColumns": null
       },
       "removedWidgets": [],
       "schema": [
        {
         "metadata": "{}",
         "name": "rank",
         "type": "\"integer\""
        },
        {
         "metadata": "{}",
         "name": "player",
         "type": "\"string\""
        },
        {
         "metadata": "{}",
         "name": "nation",
         "type": "\"string\""
        },
        {
         "metadata": "{}",
         "name": "Confederation",
         "type": "\"string\""
        },
        {
         "metadata": "{}",
         "name": "golas",
         "type": "\"string\""
        },
        {
         "metadata": "{}",
         "name": "caps",
         "type": "\"string\""
        },
        {
         "metadata": "{}",
         "name": "goals_per_match",
         "type": "\"integer\""
        },
        {
         "metadata": "{}",
         "name": "Career_span",
         "type": "\"string\""
        },
        {
         "metadata": "{}",
         "name": "Date_of_50th_goal",
         "type": "\"string\""
        }
       ],
       "type": "table"
      }
     },
     "output_type": "display_data"
    },
    {
     "output_type": "stream",
     "name": "stdout",
     "output_type": "stream",
     "text": [
      "root\n |-- rank: integer (nullable = true)\n |-- player: string (nullable = true)\n |-- nation: string (nullable = true)\n |-- Confederation: string (nullable = true)\n |-- golas: string (nullable = true)\n |-- caps: string (nullable = true)\n |-- goals_per_match: integer (nullable = true)\n |-- Career_span: string (nullable = true)\n |-- Date_of_50th_goal: string (nullable = true)\n\n"
     ]
    }
   ],
   "source": [
    "\n",
    "df = spark.read.format(\"csv\").schema(my_ddl_schema).option(\"header\",True).load('/FileStore/tables/kgds.csv')\n",
    "\n",
    "df.display()\n",
    "df.printSchema()\n"
   ]
  },
  {
   "cell_type": "code",
   "execution_count": 0,
   "metadata": {
    "application/vnd.databricks.v1+cell": {
     "cellMetadata": {
      "byteLimit": 2048000,
      "rowLimit": 10000
     },
     "inputWidgets": {},
     "nuid": "2b583fee-6db7-43a8-9061-97e12a9118b4",
     "showTitle": false,
     "tableResultSettingsMap": {},
     "title": ""
    }
   },
   "outputs": [
    {
     "output_type": "display_data",
     "data": {
      "text/html": [
       "<style scoped>\n",
       "  .table-result-container {\n",
       "    max-height: 300px;\n",
       "    overflow: auto;\n",
       "  }\n",
       "  table, th, td {\n",
       "    border: 1px solid black;\n",
       "    border-collapse: collapse;\n",
       "  }\n",
       "  th, td {\n",
       "    padding: 5px;\n",
       "  }\n",
       "  th {\n",
       "    text-align: left;\n",
       "  }\n",
       "</style><div class='table-result-container'><table class='table-result'><thead style='background-color: white'><tr><th>rank</th><th>player</th><th>nation</th><th>Confederation</th><th>golas</th><th>caps</th><th>goals_per_match</th><th>Career_span</th><th>Date_of_50th_goal</th></tr></thead><tbody><tr><td>1</td><td>Cristiano Ronaldo</td><td>�Portugal</td><td>UEFA</td><td>135</td><td>217</td><td>null</td><td>2003-</td><td>26-Jun-14</td></tr><tr><td>2</td><td>Lionel Messi</td><td>�Argentina</td><td>CONMEBOL</td><td>112</td><td>190</td><td>null</td><td>2005-</td><td>29-Mar-16</td></tr><tr><td>3</td><td>Ali Daei</td><td>�Iran</td><td>AFC</td><td>108</td><td>148</td><td>null</td><td>1993-2006</td><td>9-Jan-00</td></tr><tr><td>4</td><td>Sunil Chhetri</td><td>�India</td><td>AFC</td><td>94</td><td>151</td><td>null</td><td>2005-2024</td><td>31-Dec-15</td></tr><tr><td>5</td><td>Mokhtar Dahari</td><td>�Malaysia</td><td>AFC</td><td>89</td><td>142</td><td>null</td><td>1972-1985</td><td>22-Aug-76</td></tr><tr><td>6</td><td>Ali Mabkhout</td><td>�United Arab Emirates</td><td>AFC</td><td>85</td><td>115</td><td>null</td><td>2009-</td><td>31-Aug-19</td></tr><tr><td>6</td><td>Romelu Lukaku</td><td>�Belgium</td><td>UEFA</td><td>85</td><td>120</td><td>null</td><td>2010-</td><td>10-Oct-19</td></tr><tr><td>8</td><td>Ferenc Pusk�s</td><td>�Hungary_Spain</td><td>UEFA</td><td>84</td><td>89</td><td>null</td><td>1945-1962</td><td>24-Jul-52</td></tr><tr><td>8</td><td>Robert Lewandowski</td><td>�Poland</td><td>UEFA</td><td>84</td><td>156</td><td>null</td><td>2008-</td><td>5-Oct-17</td></tr><tr><td>10</td><td>Godfrey Chitalu</td><td>�Zambia</td><td>CAF</td><td>79</td><td>111</td><td>null</td><td>1968-1980</td><td>7-Nov-78</td></tr><tr><td>10</td><td>Neymar</td><td>�Brazil</td><td>CONMEBOL</td><td>79</td><td>128</td><td>null</td><td>2010-</td><td>11-Nov-16</td></tr><tr><td>12</td><td>Hussein Saeed</td><td>�Iraq</td><td>AFC</td><td>78</td><td>137</td><td>null</td><td>1977-1990</td><td>17-Mar-84</td></tr><tr><td>13</td><td>Pel�</td><td>�Brazil</td><td>CONMEBOL</td><td>77</td><td>92</td><td>null</td><td>1957-1971</td><td>4-Jul-65</td></tr><tr><td>14</td><td>Vivian Woodward</td><td>�England_�England amateurs</td><td>UEFA</td><td>75</td><td>53</td><td>null</td><td>1903-1914</td><td>31-May-09</td></tr><tr><td>14</td><td>S�ndor Kocsis</td><td>�Hungary</td><td>UEFA</td><td>75</td><td>68</td><td>null</td><td>1948-1956</td><td>19-Sep-54</td></tr><tr><td>14</td><td>Kunishige Kamamoto</td><td>�Japan</td><td>AFC</td><td>75</td><td>76</td><td>null</td><td>1964-1977</td><td>18-Jul-72</td></tr><tr><td>14</td><td>Bashar Abdullah</td><td>�Kuwait</td><td>AFC</td><td>75</td><td>134</td><td>null</td><td>1996-2007</td><td>25-Dec-02</td></tr><tr><td>18</td><td>Majed Abdullah</td><td>�Saudi Arabia</td><td>AFC</td><td>72</td><td>117</td><td>null</td><td>1977-1994</td><td>15-Apr-84</td></tr><tr><td>19</td><td>Kinnah Phiri</td><td>�Malawi</td><td>CAF</td><td>71</td><td>117</td><td>null</td><td>1973-1981</td><td>6-Jul-78</td></tr><tr><td>19</td><td>Kiatisuk Senamuang</td><td>�Thailand</td><td>AFC</td><td>71</td><td>134</td><td>null</td><td>1993-2007</td><td>23-Jan-01</td></tr><tr><td>19</td><td>Miroslav Klose</td><td>�Germany</td><td>UEFA</td><td>71</td><td>137</td><td>null</td><td>2001-2014</td><td>27-Jun-10</td></tr><tr><td>22</td><td>Piyapong Pue-on</td><td>�Thailand</td><td>AFC</td><td>70</td><td>100</td><td>null</td><td>1981-1997</td><td>30-Jan-89</td></tr><tr><td>22</td><td>Abdul Kadir</td><td>�Indonesia</td><td>AFC</td><td>70</td><td>111</td><td>null</td><td>1967-1979</td><td>8-Aug-72</td></tr><tr><td>22</td><td>Stern John</td><td>�Trinidad and Tobago</td><td>CONCACAF</td><td>70</td><td>115</td><td>null</td><td>1995-2012</td><td>13-Jun-04</td></tr><tr><td>25</td><td>Luis Su�rez</td><td>�Uruguay</td><td>CONMEBOL</td><td>69</td><td>143</td><td>null</td><td>2007-2024</td><td>23-Mar-18</td></tr><tr><td>25</td><td>Hossam Hassan</td><td>�Egypt</td><td>CAF</td><td>69</td><td>177</td><td>null</td><td>1985-2006</td><td>25-Feb-98</td></tr><tr><td>27</td><td>Gerd M�ller</td><td>�West Germany</td><td>UEFA</td><td>68</td><td>62</td><td>null</td><td>1966-1974</td><td>18-Jun-72</td></tr><tr><td>27</td><td>Harry Kane</td><td>�England</td><td>UEFA</td><td>68</td><td>102</td><td>null</td><td>2015-</td><td>7-Jun-22</td></tr><tr><td>27</td><td>Carlos Ruiz</td><td>�Guatemala</td><td>CONCACAF</td><td>68</td><td>133</td><td>null</td><td>1998-2016</td><td>15-Aug-12</td></tr><tr><td>27</td><td>Robbie Keane</td><td>�Republic of Ireland</td><td>UEFA</td><td>68</td><td>146</td><td>null</td><td>1998-2016</td><td>4-Jun-11</td></tr><tr><td>31</td><td>Edin D�eko</td><td>�Bosnia and Herzegovina</td><td>UEFA</td><td>67</td><td>138</td><td>null</td><td>2007-</td><td>28-Mar-17</td></tr><tr><td>32</td><td>Didier Drogba</td><td>�Ivory Coast</td><td>CAF</td><td>65</td><td>105</td><td>null</td><td>2002-2014</td><td>13-Jan-12</td></tr><tr><td>33</td><td>Teerasil Dangda</td><td>�Thailand</td><td>AFC</td><td>64</td><td>128</td><td>null</td><td>2007-</td><td>14-Dec-21</td></tr><tr><td>34</td><td>Jasem Al-Huwaidi</td><td>�Kuwait</td><td>AFC</td><td>63</td><td>83</td><td>null</td><td>1992-2003</td><td>30-Sep-00</td></tr><tr><td>35</td><td>Ronaldo</td><td>�Brazil</td><td>CONMEBOL</td><td>62</td><td>98</td><td>null</td><td>1994-2011</td><td>19-Nov-03</td></tr><tr><td>35</td><td>Ahmed Radhi</td><td>�Iraq</td><td>AFC</td><td>62</td><td>121</td><td>null</td><td>1982-1997</td><td>18-Aug-92</td></tr><tr><td>35</td><td>Zlatan Ibrahimovic</td><td>�Sweden</td><td>UEFA</td><td>62</td><td>122</td><td>null</td><td>2001-2023</td><td>4-Sep-14</td></tr><tr><td>38</td><td>Abdul Ghani Minhat</td><td>�Malaya��Malaysia</td><td>AFC</td><td>61</td><td>71</td><td>null</td><td>1956-1966</td><td>15-Dec-61</td></tr><tr><td>39</td><td>Imre Schlosser</td><td>�Hungary</td><td>UEFA</td><td>59</td><td>68</td><td>null</td><td>1906-1927</td><td>3-Jun-17</td></tr><tr><td>39</td><td>Aleksandar Mitrovi?</td><td>�Serbia</td><td>UEFA</td><td>59</td><td>97</td><td>null</td><td>2013-</td><td>27-Sep-22</td></tr><tr><td>39</td><td>David Villa</td><td>�Spain</td><td>UEFA</td><td>59</td><td>98</td><td>null</td><td>2005-2017</td><td>11-Oct-11</td></tr><tr><td>39</td><td>Mohamed Salah</td><td>�Egypt</td><td>CAF</td><td>59</td><td>103</td><td>null</td><td>2011-</td><td>24-Mar-23</td></tr><tr><td>39</td><td>Almoez Ali</td><td>�Qatar</td><td>AFC</td><td>59</td><td>117</td><td>null</td><td>2013-</td><td>31-Dec-23</td></tr><tr><td>44</td><td>Ali Ashfaq</td><td>�Maldives</td><td>AFC</td><td>58</td><td>98</td><td>null</td><td>2003-2023</td><td>29-Mar-16</td></tr><tr><td>44</td><td>Cha Bum-kun</td><td>�South Korea</td><td>AFC</td><td>58</td><td>136</td><td>null</td><td>1972-1986</td><td>5-Sep-77</td></tr><tr><td>44</td><td>Edinson Cavani</td><td>�Uruguay</td><td>CONMEBOL</td><td>58</td><td>136</td><td>null</td><td>2008-2022</td><td>18-Nov-19</td></tr><tr><td>47</td><td>Carlos Pav�n</td><td>�Honduras</td><td>CONCACAF</td><td>57</td><td>101</td><td>null</td><td>1993-2010</td><td>28-Mar-09</td></tr><tr><td>47</td><td>Olivier Giroud</td><td>�France</td><td>UEFA</td><td>57</td><td>137</td><td>null</td><td>2011-2024</td><td>22-Nov-22</td></tr><tr><td>47</td><td>Clint Dempsey</td><td>�United States</td><td>CONCACAF</td><td>57</td><td>141</td><td>null</td><td>2004-2018</td><td>7-Jun-16</td></tr><tr><td>47</td><td>Younis Mahmoud</td><td>�Iraq</td><td>AFC</td><td>57</td><td>148</td><td>null</td><td>2002-2016</td><td>5-Mar-14</td></tr><tr><td>47</td><td>Landon Donovan</td><td>�United States</td><td>CONCACAF</td><td>57</td><td>157</td><td>null</td><td>2000-2014</td><td>5-Jul-13</td></tr><tr><td>52</td><td>Gabriel Batistuta</td><td>�Argentina</td><td>CONMEBOL</td><td>56</td><td>78</td><td>null</td><td>1991-2002</td><td>29-Jun-00</td></tr><tr><td>52</td><td>Samuel Eto'o</td><td>�Cameroon</td><td>CAF</td><td>56</td><td>118</td><td>null</td><td>1997-2014</td><td>3-Sep-11</td></tr><tr><td>52</td><td>Bader Al-Mutawa</td><td>�Kuwait</td><td>AFC</td><td>56</td><td>196</td><td>null</td><td>2003-2022</td><td>3-Sep-15</td></tr><tr><td>55</td><td>Rom�rio</td><td>�Brazil</td><td>CONMEBOL</td><td>55</td><td>70</td><td>null</td><td>1987-2005</td><td>8-Oct-00</td></tr><tr><td>55</td><td>Sardar Azmoun</td><td>�Iran</td><td>AFC</td><td>55</td><td>88</td><td>null</td><td>2014-</td><td>14-Jan-24</td></tr><tr><td>55</td><td>Kazuyoshi Miura</td><td>�Japan</td><td>AFC</td><td>55</td><td>89</td><td>null</td><td>1990-2000</td><td>7-Sep-97</td></tr><tr><td>55</td><td>Jan Koller</td><td>�Czech Republic</td><td>UEFA</td><td>55</td><td>91</td><td>null</td><td>1999-2009</td><td>8-Sep-07</td></tr><tr><td>55</td><td>Iswadi Idris</td><td>�Indonesia</td><td>AFC</td><td>55</td><td>97</td><td>null</td><td>1968-1980</td><td>19-Nov-77</td></tr><tr><td>55</td><td>Fandi Ahmad</td><td>�Singapore</td><td>AFC</td><td>55</td><td>101</td><td>null</td><td>1979-1997</td><td>16-Dec-95</td></tr><tr><td>55</td><td>Joachim Streich</td><td>�East Germany</td><td>UEFA</td><td>55</td><td>102</td><td>null</td><td>1969-1984</td><td>26-Jul-83</td></tr><tr><td>62</td><td>Wayne Rooney</td><td>�England</td><td>UEFA</td><td>53</td><td>120</td><td>null</td><td>2003-2018</td><td>8-Sep-15</td></tr><tr><td>63</td><td>Poul Nielsen</td><td>�Denmark</td><td>UEFA</td><td>52</td><td>38</td><td>null</td><td>1910-1925</td><td>14-Jun-25</td></tr><tr><td>63</td><td>Phil Younghusband</td><td>�Philippines</td><td>AFC</td><td>52</td><td>108</td><td>null</td><td>2006-2019</td><td>22-Mar-18</td></tr><tr><td>63</td><td>Javier Hern�ndez</td><td>�Mexico</td><td>CONCACAF</td><td>52</td><td>109</td><td>null</td><td>2009-2019</td><td>23-Jun-18</td></tr><tr><td>63</td><td>Jon Dahl Tomasson</td><td>�Denmark</td><td>UEFA</td><td>52</td><td>112</td><td>null</td><td>1997-2010</td><td>21-Nov-07</td></tr><tr><td>63</td><td>Yousef Nasser</td><td>�Kuwait</td><td>AFC</td><td>52</td><td>113</td><td>null</td><td>2009-</td><td>5-Sep-24</td></tr><tr><td>63</td><td>Adnan Al Talyani</td><td>�United Arab Emirates</td><td>AFC</td><td>52</td><td>161</td><td>null</td><td>1983-1997</td><td>19-Nov-96</td></tr><tr><td>69</td><td>Lajos Tichy</td><td>�Hungary</td><td>UEFA</td><td>51</td><td>72</td><td>null</td><td>1955-1971</td><td>25-Apr-64</td></tr><tr><td>69</td><td>L� C�ng Vinh</td><td>�Vietnam</td><td>AFC</td><td>51</td><td>83</td><td>null</td><td>2004-2016</td><td>20-Nov-16</td></tr><tr><td>69</td><td>Mehdi Taremi</td><td>�Iran</td><td>AFC</td><td>51</td><td>90</td><td>null</td><td>2015-</td><td>6-Jun-24</td></tr><tr><td>69</td><td>Asamoah Gyan</td><td>�Ghana</td><td>CAF</td><td>51</td><td>109</td><td>null</td><td>2003-2019</td><td>11-Jun-17</td></tr><tr><td>69</td><td>Hakan ?�k�r</td><td>�Turkey</td><td>UEFA</td><td>51</td><td>112</td><td>null</td><td>1992-2007</td><td>11-Oct-06</td></tr><tr><td>69</td><td>Thierry Henry</td><td>�France</td><td>UEFA</td><td>51</td><td>123</td><td>null</td><td>1997-2010</td><td>9-Sep-09</td></tr><tr><td>69</td><td>Alexis S�nchez</td><td>�Chile</td><td>CONMEBOL</td><td>51</td><td>166</td><td>null</td><td>2006-</td><td>27-Sep-22</td></tr><tr><td>76</td><td>Karim Bagheri</td><td>�Iran</td><td>AFC</td><td>50</td><td>87</td><td>null</td><td>1993-2010</td><td>9-Jan-09</td></tr><tr><td>76</td><td>Robin van Persie</td><td>�Netherlands</td><td>UEFA</td><td>50</td><td>102</td><td>null</td><td>2005-2017</td><td>13-Oct-15</td></tr><tr><td>76</td><td>Hwang Sun-hong</td><td>�South Korea</td><td>AFC</td><td>50</td><td>103</td><td>null</td><td>1988-2002</td><td>4-Jun-02</td></tr><tr><td>76</td><td>Tim Cahill</td><td>�Australia</td><td>AFC /�OFC</td><td>50</td><td>108</td><td>null</td><td>2004-2018</td><td>10-Oct-17</td></tr><tr><td>76</td><td>Shinji Okazaki</td><td>�Japan</td><td>AFC</td><td>50</td><td>119</td><td>null</td><td>2008-2019</td><td>28-Mar-17</td></tr><tr><td>76</td><td>Zainal Abidin Hassan</td><td>�Malaysia</td><td>AFC</td><td>50</td><td>129</td><td>null</td><td>1980-1997</td><td>31-Mar-97</td></tr><tr><td>76</td><td>Son Heung-min</td><td>�South Korea</td><td>AFC</td><td>50</td><td>130</td><td>null</td><td>2010-</td><td>14-Nov-24</td></tr></tbody></table></div>"
      ]
     },
     "metadata": {
      "application/vnd.databricks.v1+output": {
       "addedWidgets": {},
       "aggData": [],
       "aggError": "",
       "aggOverflow": false,
       "aggSchema": [],
       "aggSeriesLimitReached": false,
       "aggType": "",
       "arguments": {},
       "columnCustomDisplayInfos": {},
       "data": [
        [
         1,
         "Cristiano Ronaldo",
         "�Portugal",
         "UEFA",
         "135",
         "217",
         null,
         "2003-",
         "26-Jun-14"
        ],
        [
         2,
         "Lionel Messi",
         "�Argentina",
         "CONMEBOL",
         "112",
         "190",
         null,
         "2005-",
         "29-Mar-16"
        ],
        [
         3,
         "Ali Daei",
         "�Iran",
         "AFC",
         "108",
         "148",
         null,
         "1993-2006",
         "9-Jan-00"
        ],
        [
         4,
         "Sunil Chhetri",
         "�India",
         "AFC",
         "94",
         "151",
         null,
         "2005-2024",
         "31-Dec-15"
        ],
        [
         5,
         "Mokhtar Dahari",
         "�Malaysia",
         "AFC",
         "89",
         "142",
         null,
         "1972-1985",
         "22-Aug-76"
        ],
        [
         6,
         "Ali Mabkhout",
         "�United Arab Emirates",
         "AFC",
         "85",
         "115",
         null,
         "2009-",
         "31-Aug-19"
        ],
        [
         6,
         "Romelu Lukaku",
         "�Belgium",
         "UEFA",
         "85",
         "120",
         null,
         "2010-",
         "10-Oct-19"
        ],
        [
         8,
         "Ferenc Pusk�s",
         "�Hungary_Spain",
         "UEFA",
         "84",
         "89",
         null,
         "1945-1962",
         "24-Jul-52"
        ],
        [
         8,
         "Robert Lewandowski",
         "�Poland",
         "UEFA",
         "84",
         "156",
         null,
         "2008-",
         "5-Oct-17"
        ],
        [
         10,
         "Godfrey Chitalu",
         "�Zambia",
         "CAF",
         "79",
         "111",
         null,
         "1968-1980",
         "7-Nov-78"
        ],
        [
         10,
         "Neymar",
         "�Brazil",
         "CONMEBOL",
         "79",
         "128",
         null,
         "2010-",
         "11-Nov-16"
        ],
        [
         12,
         "Hussein Saeed",
         "�Iraq",
         "AFC",
         "78",
         "137",
         null,
         "1977-1990",
         "17-Mar-84"
        ],
        [
         13,
         "Pel�",
         "�Brazil",
         "CONMEBOL",
         "77",
         "92",
         null,
         "1957-1971",
         "4-Jul-65"
        ],
        [
         14,
         "Vivian Woodward",
         "�England_�England amateurs",
         "UEFA",
         "75",
         "53",
         null,
         "1903-1914",
         "31-May-09"
        ],
        [
         14,
         "S�ndor Kocsis",
         "�Hungary",
         "UEFA",
         "75",
         "68",
         null,
         "1948-1956",
         "19-Sep-54"
        ],
        [
         14,
         "Kunishige Kamamoto",
         "�Japan",
         "AFC",
         "75",
         "76",
         null,
         "1964-1977",
         "18-Jul-72"
        ],
        [
         14,
         "Bashar Abdullah",
         "�Kuwait",
         "AFC",
         "75",
         "134",
         null,
         "1996-2007",
         "25-Dec-02"
        ],
        [
         18,
         "Majed Abdullah",
         "�Saudi Arabia",
         "AFC",
         "72",
         "117",
         null,
         "1977-1994",
         "15-Apr-84"
        ],
        [
         19,
         "Kinnah Phiri",
         "�Malawi",
         "CAF",
         "71",
         "117",
         null,
         "1973-1981",
         "6-Jul-78"
        ],
        [
         19,
         "Kiatisuk Senamuang",
         "�Thailand",
         "AFC",
         "71",
         "134",
         null,
         "1993-2007",
         "23-Jan-01"
        ],
        [
         19,
         "Miroslav Klose",
         "�Germany",
         "UEFA",
         "71",
         "137",
         null,
         "2001-2014",
         "27-Jun-10"
        ],
        [
         22,
         "Piyapong Pue-on",
         "�Thailand",
         "AFC",
         "70",
         "100",
         null,
         "1981-1997",
         "30-Jan-89"
        ],
        [
         22,
         "Abdul Kadir",
         "�Indonesia",
         "AFC",
         "70",
         "111",
         null,
         "1967-1979",
         "8-Aug-72"
        ],
        [
         22,
         "Stern John",
         "�Trinidad and Tobago",
         "CONCACAF",
         "70",
         "115",
         null,
         "1995-2012",
         "13-Jun-04"
        ],
        [
         25,
         "Luis Su�rez",
         "�Uruguay",
         "CONMEBOL",
         "69",
         "143",
         null,
         "2007-2024",
         "23-Mar-18"
        ],
        [
         25,
         "Hossam Hassan",
         "�Egypt",
         "CAF",
         "69",
         "177",
         null,
         "1985-2006",
         "25-Feb-98"
        ],
        [
         27,
         "Gerd M�ller",
         "�West Germany",
         "UEFA",
         "68",
         "62",
         null,
         "1966-1974",
         "18-Jun-72"
        ],
        [
         27,
         "Harry Kane",
         "�England",
         "UEFA",
         "68",
         "102",
         null,
         "2015-",
         "7-Jun-22"
        ],
        [
         27,
         "Carlos Ruiz",
         "�Guatemala",
         "CONCACAF",
         "68",
         "133",
         null,
         "1998-2016",
         "15-Aug-12"
        ],
        [
         27,
         "Robbie Keane",
         "�Republic of Ireland",
         "UEFA",
         "68",
         "146",
         null,
         "1998-2016",
         "4-Jun-11"
        ],
        [
         31,
         "Edin D�eko",
         "�Bosnia and Herzegovina",
         "UEFA",
         "67",
         "138",
         null,
         "2007-",
         "28-Mar-17"
        ],
        [
         32,
         "Didier Drogba",
         "�Ivory Coast",
         "CAF",
         "65",
         "105",
         null,
         "2002-2014",
         "13-Jan-12"
        ],
        [
         33,
         "Teerasil Dangda",
         "�Thailand",
         "AFC",
         "64",
         "128",
         null,
         "2007-",
         "14-Dec-21"
        ],
        [
         34,
         "Jasem Al-Huwaidi",
         "�Kuwait",
         "AFC",
         "63",
         "83",
         null,
         "1992-2003",
         "30-Sep-00"
        ],
        [
         35,
         "Ronaldo",
         "�Brazil",
         "CONMEBOL",
         "62",
         "98",
         null,
         "1994-2011",
         "19-Nov-03"
        ],
        [
         35,
         "Ahmed Radhi",
         "�Iraq",
         "AFC",
         "62",
         "121",
         null,
         "1982-1997",
         "18-Aug-92"
        ],
        [
         35,
         "Zlatan Ibrahimovic",
         "�Sweden",
         "UEFA",
         "62",
         "122",
         null,
         "2001-2023",
         "4-Sep-14"
        ],
        [
         38,
         "Abdul Ghani Minhat",
         "�Malaya��Malaysia",
         "AFC",
         "61",
         "71",
         null,
         "1956-1966",
         "15-Dec-61"
        ],
        [
         39,
         "Imre Schlosser",
         "�Hungary",
         "UEFA",
         "59",
         "68",
         null,
         "1906-1927",
         "3-Jun-17"
        ],
        [
         39,
         "Aleksandar Mitrovi?",
         "�Serbia",
         "UEFA",
         "59",
         "97",
         null,
         "2013-",
         "27-Sep-22"
        ],
        [
         39,
         "David Villa",
         "�Spain",
         "UEFA",
         "59",
         "98",
         null,
         "2005-2017",
         "11-Oct-11"
        ],
        [
         39,
         "Mohamed Salah",
         "�Egypt",
         "CAF",
         "59",
         "103",
         null,
         "2011-",
         "24-Mar-23"
        ],
        [
         39,
         "Almoez Ali",
         "�Qatar",
         "AFC",
         "59",
         "117",
         null,
         "2013-",
         "31-Dec-23"
        ],
        [
         44,
         "Ali Ashfaq",
         "�Maldives",
         "AFC",
         "58",
         "98",
         null,
         "2003-2023",
         "29-Mar-16"
        ],
        [
         44,
         "Cha Bum-kun",
         "�South Korea",
         "AFC",
         "58",
         "136",
         null,
         "1972-1986",
         "5-Sep-77"
        ],
        [
         44,
         "Edinson Cavani",
         "�Uruguay",
         "CONMEBOL",
         "58",
         "136",
         null,
         "2008-2022",
         "18-Nov-19"
        ],
        [
         47,
         "Carlos Pav�n",
         "�Honduras",
         "CONCACAF",
         "57",
         "101",
         null,
         "1993-2010",
         "28-Mar-09"
        ],
        [
         47,
         "Olivier Giroud",
         "�France",
         "UEFA",
         "57",
         "137",
         null,
         "2011-2024",
         "22-Nov-22"
        ],
        [
         47,
         "Clint Dempsey",
         "�United States",
         "CONCACAF",
         "57",
         "141",
         null,
         "2004-2018",
         "7-Jun-16"
        ],
        [
         47,
         "Younis Mahmoud",
         "�Iraq",
         "AFC",
         "57",
         "148",
         null,
         "2002-2016",
         "5-Mar-14"
        ],
        [
         47,
         "Landon Donovan",
         "�United States",
         "CONCACAF",
         "57",
         "157",
         null,
         "2000-2014",
         "5-Jul-13"
        ],
        [
         52,
         "Gabriel Batistuta",
         "�Argentina",
         "CONMEBOL",
         "56",
         "78",
         null,
         "1991-2002",
         "29-Jun-00"
        ],
        [
         52,
         "Samuel Eto'o",
         "�Cameroon",
         "CAF",
         "56",
         "118",
         null,
         "1997-2014",
         "3-Sep-11"
        ],
        [
         52,
         "Bader Al-Mutawa",
         "�Kuwait",
         "AFC",
         "56",
         "196",
         null,
         "2003-2022",
         "3-Sep-15"
        ],
        [
         55,
         "Rom�rio",
         "�Brazil",
         "CONMEBOL",
         "55",
         "70",
         null,
         "1987-2005",
         "8-Oct-00"
        ],
        [
         55,
         "Sardar Azmoun",
         "�Iran",
         "AFC",
         "55",
         "88",
         null,
         "2014-",
         "14-Jan-24"
        ],
        [
         55,
         "Kazuyoshi Miura",
         "�Japan",
         "AFC",
         "55",
         "89",
         null,
         "1990-2000",
         "7-Sep-97"
        ],
        [
         55,
         "Jan Koller",
         "�Czech Republic",
         "UEFA",
         "55",
         "91",
         null,
         "1999-2009",
         "8-Sep-07"
        ],
        [
         55,
         "Iswadi Idris",
         "�Indonesia",
         "AFC",
         "55",
         "97",
         null,
         "1968-1980",
         "19-Nov-77"
        ],
        [
         55,
         "Fandi Ahmad",
         "�Singapore",
         "AFC",
         "55",
         "101",
         null,
         "1979-1997",
         "16-Dec-95"
        ],
        [
         55,
         "Joachim Streich",
         "�East Germany",
         "UEFA",
         "55",
         "102",
         null,
         "1969-1984",
         "26-Jul-83"
        ],
        [
         62,
         "Wayne Rooney",
         "�England",
         "UEFA",
         "53",
         "120",
         null,
         "2003-2018",
         "8-Sep-15"
        ],
        [
         63,
         "Poul Nielsen",
         "�Denmark",
         "UEFA",
         "52",
         "38",
         null,
         "1910-1925",
         "14-Jun-25"
        ],
        [
         63,
         "Phil Younghusband",
         "�Philippines",
         "AFC",
         "52",
         "108",
         null,
         "2006-2019",
         "22-Mar-18"
        ],
        [
         63,
         "Javier Hern�ndez",
         "�Mexico",
         "CONCACAF",
         "52",
         "109",
         null,
         "2009-2019",
         "23-Jun-18"
        ],
        [
         63,
         "Jon Dahl Tomasson",
         "�Denmark",
         "UEFA",
         "52",
         "112",
         null,
         "1997-2010",
         "21-Nov-07"
        ],
        [
         63,
         "Yousef Nasser",
         "�Kuwait",
         "AFC",
         "52",
         "113",
         null,
         "2009-",
         "5-Sep-24"
        ],
        [
         63,
         "Adnan Al Talyani",
         "�United Arab Emirates",
         "AFC",
         "52",
         "161",
         null,
         "1983-1997",
         "19-Nov-96"
        ],
        [
         69,
         "Lajos Tichy",
         "�Hungary",
         "UEFA",
         "51",
         "72",
         null,
         "1955-1971",
         "25-Apr-64"
        ],
        [
         69,
         "L� C�ng Vinh",
         "�Vietnam",
         "AFC",
         "51",
         "83",
         null,
         "2004-2016",
         "20-Nov-16"
        ],
        [
         69,
         "Mehdi Taremi",
         "�Iran",
         "AFC",
         "51",
         "90",
         null,
         "2015-",
         "6-Jun-24"
        ],
        [
         69,
         "Asamoah Gyan",
         "�Ghana",
         "CAF",
         "51",
         "109",
         null,
         "2003-2019",
         "11-Jun-17"
        ],
        [
         69,
         "Hakan ?�k�r",
         "�Turkey",
         "UEFA",
         "51",
         "112",
         null,
         "1992-2007",
         "11-Oct-06"
        ],
        [
         69,
         "Thierry Henry",
         "�France",
         "UEFA",
         "51",
         "123",
         null,
         "1997-2010",
         "9-Sep-09"
        ],
        [
         69,
         "Alexis S�nchez",
         "�Chile",
         "CONMEBOL",
         "51",
         "166",
         null,
         "2006-",
         "27-Sep-22"
        ],
        [
         76,
         "Karim Bagheri",
         "�Iran",
         "AFC",
         "50",
         "87",
         null,
         "1993-2010",
         "9-Jan-09"
        ],
        [
         76,
         "Robin van Persie",
         "�Netherlands",
         "UEFA",
         "50",
         "102",
         null,
         "2005-2017",
         "13-Oct-15"
        ],
        [
         76,
         "Hwang Sun-hong",
         "�South Korea",
         "AFC",
         "50",
         "103",
         null,
         "1988-2002",
         "4-Jun-02"
        ],
        [
         76,
         "Tim Cahill",
         "�Australia",
         "AFC /�OFC",
         "50",
         "108",
         null,
         "2004-2018",
         "10-Oct-17"
        ],
        [
         76,
         "Shinji Okazaki",
         "�Japan",
         "AFC",
         "50",
         "119",
         null,
         "2008-2019",
         "28-Mar-17"
        ],
        [
         76,
         "Zainal Abidin Hassan",
         "�Malaysia",
         "AFC",
         "50",
         "129",
         null,
         "1980-1997",
         "31-Mar-97"
        ],
        [
         76,
         "Son Heung-min",
         "�South Korea",
         "AFC",
         "50",
         "130",
         null,
         "2010-",
         "14-Nov-24"
        ]
       ],
       "datasetInfos": [],
       "dbfsResultPath": null,
       "isJsonSchema": true,
       "metadata": {},
       "overflow": false,
       "plotOptions": {
        "customPlotOptions": {},
        "displayType": "table",
        "pivotAggregation": null,
        "pivotColumns": null,
        "xColumns": null,
        "yColumns": null
       },
       "removedWidgets": [],
       "schema": [
        {
         "metadata": "{}",
         "name": "rank",
         "type": "\"integer\""
        },
        {
         "metadata": "{}",
         "name": "player",
         "type": "\"string\""
        },
        {
         "metadata": "{}",
         "name": "nation",
         "type": "\"string\""
        },
        {
         "metadata": "{}",
         "name": "Confederation",
         "type": "\"string\""
        },
        {
         "metadata": "{}",
         "name": "golas",
         "type": "\"string\""
        },
        {
         "metadata": "{}",
         "name": "caps",
         "type": "\"string\""
        },
        {
         "metadata": "{}",
         "name": "goals_per_match",
         "type": "\"integer\""
        },
        {
         "metadata": "{}",
         "name": "Career_span",
         "type": "\"string\""
        },
        {
         "metadata": "{}",
         "name": "Date_of_50th_goal",
         "type": "\"string\""
        }
       ],
       "type": "table"
      }
     },
     "output_type": "display_data"
    },
    {
     "output_type": "display_data",
     "data": {
      "text/html": [
       "<style scoped>\n",
       "  .table-result-container {\n",
       "    max-height: 300px;\n",
       "    overflow: auto;\n",
       "  }\n",
       "  table, th, td {\n",
       "    border: 1px solid black;\n",
       "    border-collapse: collapse;\n",
       "  }\n",
       "  th, td {\n",
       "    padding: 5px;\n",
       "  }\n",
       "  th {\n",
       "    text-align: left;\n",
       "  }\n",
       "</style><div class='table-result-container'><table class='table-result'><thead style='background-color: white'><tr><th>rank</th><th>player</th><th>nation</th><th>Confederation</th><th>golas</th><th>caps</th><th>goals_per_match</th><th>Career_span</th><th>Date_of_50th_goal</th></tr></thead><tbody><tr><td>3</td><td>Ali Daei</td><td>�Iran</td><td>AFC</td><td>108</td><td>148</td><td>null</td><td>1993-2006</td><td>9-Jan-00</td></tr><tr><td>4</td><td>Sunil Chhetri</td><td>�India</td><td>AFC</td><td>94</td><td>151</td><td>null</td><td>2005-2024</td><td>31-Dec-15</td></tr><tr><td>5</td><td>Mokhtar Dahari</td><td>�Malaysia</td><td>AFC</td><td>89</td><td>142</td><td>null</td><td>1972-1985</td><td>22-Aug-76</td></tr><tr><td>6</td><td>Ali Mabkhout</td><td>�United Arab Emirates</td><td>AFC</td><td>85</td><td>115</td><td>null</td><td>2009-</td><td>31-Aug-19</td></tr><tr><td>12</td><td>Hussein Saeed</td><td>�Iraq</td><td>AFC</td><td>78</td><td>137</td><td>null</td><td>1977-1990</td><td>17-Mar-84</td></tr><tr><td>14</td><td>Kunishige Kamamoto</td><td>�Japan</td><td>AFC</td><td>75</td><td>76</td><td>null</td><td>1964-1977</td><td>18-Jul-72</td></tr><tr><td>14</td><td>Bashar Abdullah</td><td>�Kuwait</td><td>AFC</td><td>75</td><td>134</td><td>null</td><td>1996-2007</td><td>25-Dec-02</td></tr><tr><td>18</td><td>Majed Abdullah</td><td>�Saudi Arabia</td><td>AFC</td><td>72</td><td>117</td><td>null</td><td>1977-1994</td><td>15-Apr-84</td></tr><tr><td>19</td><td>Kiatisuk Senamuang</td><td>�Thailand</td><td>AFC</td><td>71</td><td>134</td><td>null</td><td>1993-2007</td><td>23-Jan-01</td></tr><tr><td>22</td><td>Piyapong Pue-on</td><td>�Thailand</td><td>AFC</td><td>70</td><td>100</td><td>null</td><td>1981-1997</td><td>30-Jan-89</td></tr><tr><td>22</td><td>Abdul Kadir</td><td>�Indonesia</td><td>AFC</td><td>70</td><td>111</td><td>null</td><td>1967-1979</td><td>8-Aug-72</td></tr><tr><td>33</td><td>Teerasil Dangda</td><td>�Thailand</td><td>AFC</td><td>64</td><td>128</td><td>null</td><td>2007-</td><td>14-Dec-21</td></tr><tr><td>34</td><td>Jasem Al-Huwaidi</td><td>�Kuwait</td><td>AFC</td><td>63</td><td>83</td><td>null</td><td>1992-2003</td><td>30-Sep-00</td></tr><tr><td>35</td><td>Ahmed Radhi</td><td>�Iraq</td><td>AFC</td><td>62</td><td>121</td><td>null</td><td>1982-1997</td><td>18-Aug-92</td></tr><tr><td>38</td><td>Abdul Ghani Minhat</td><td>�Malaya��Malaysia</td><td>AFC</td><td>61</td><td>71</td><td>null</td><td>1956-1966</td><td>15-Dec-61</td></tr><tr><td>39</td><td>Almoez Ali</td><td>�Qatar</td><td>AFC</td><td>59</td><td>117</td><td>null</td><td>2013-</td><td>31-Dec-23</td></tr><tr><td>44</td><td>Ali Ashfaq</td><td>�Maldives</td><td>AFC</td><td>58</td><td>98</td><td>null</td><td>2003-2023</td><td>29-Mar-16</td></tr><tr><td>44</td><td>Cha Bum-kun</td><td>�South Korea</td><td>AFC</td><td>58</td><td>136</td><td>null</td><td>1972-1986</td><td>5-Sep-77</td></tr><tr><td>47</td><td>Younis Mahmoud</td><td>�Iraq</td><td>AFC</td><td>57</td><td>148</td><td>null</td><td>2002-2016</td><td>5-Mar-14</td></tr><tr><td>52</td><td>Bader Al-Mutawa</td><td>�Kuwait</td><td>AFC</td><td>56</td><td>196</td><td>null</td><td>2003-2022</td><td>3-Sep-15</td></tr><tr><td>55</td><td>Sardar Azmoun</td><td>�Iran</td><td>AFC</td><td>55</td><td>88</td><td>null</td><td>2014-</td><td>14-Jan-24</td></tr><tr><td>55</td><td>Kazuyoshi Miura</td><td>�Japan</td><td>AFC</td><td>55</td><td>89</td><td>null</td><td>1990-2000</td><td>7-Sep-97</td></tr><tr><td>55</td><td>Iswadi Idris</td><td>�Indonesia</td><td>AFC</td><td>55</td><td>97</td><td>null</td><td>1968-1980</td><td>19-Nov-77</td></tr><tr><td>55</td><td>Fandi Ahmad</td><td>�Singapore</td><td>AFC</td><td>55</td><td>101</td><td>null</td><td>1979-1997</td><td>16-Dec-95</td></tr><tr><td>63</td><td>Phil Younghusband</td><td>�Philippines</td><td>AFC</td><td>52</td><td>108</td><td>null</td><td>2006-2019</td><td>22-Mar-18</td></tr><tr><td>63</td><td>Yousef Nasser</td><td>�Kuwait</td><td>AFC</td><td>52</td><td>113</td><td>null</td><td>2009-</td><td>5-Sep-24</td></tr><tr><td>63</td><td>Adnan Al Talyani</td><td>�United Arab Emirates</td><td>AFC</td><td>52</td><td>161</td><td>null</td><td>1983-1997</td><td>19-Nov-96</td></tr><tr><td>69</td><td>L� C�ng Vinh</td><td>�Vietnam</td><td>AFC</td><td>51</td><td>83</td><td>null</td><td>2004-2016</td><td>20-Nov-16</td></tr><tr><td>69</td><td>Mehdi Taremi</td><td>�Iran</td><td>AFC</td><td>51</td><td>90</td><td>null</td><td>2015-</td><td>6-Jun-24</td></tr><tr><td>76</td><td>Karim Bagheri</td><td>�Iran</td><td>AFC</td><td>50</td><td>87</td><td>null</td><td>1993-2010</td><td>9-Jan-09</td></tr><tr><td>76</td><td>Hwang Sun-hong</td><td>�South Korea</td><td>AFC</td><td>50</td><td>103</td><td>null</td><td>1988-2002</td><td>4-Jun-02</td></tr><tr><td>76</td><td>Shinji Okazaki</td><td>�Japan</td><td>AFC</td><td>50</td><td>119</td><td>null</td><td>2008-2019</td><td>28-Mar-17</td></tr><tr><td>76</td><td>Zainal Abidin Hassan</td><td>�Malaysia</td><td>AFC</td><td>50</td><td>129</td><td>null</td><td>1980-1997</td><td>31-Mar-97</td></tr><tr><td>76</td><td>Son Heung-min</td><td>�South Korea</td><td>AFC</td><td>50</td><td>130</td><td>null</td><td>2010-</td><td>14-Nov-24</td></tr></tbody></table></div>"
      ]
     },
     "metadata": {
      "application/vnd.databricks.v1+output": {
       "addedWidgets": {},
       "aggData": [],
       "aggError": "",
       "aggOverflow": false,
       "aggSchema": [],
       "aggSeriesLimitReached": false,
       "aggType": "",
       "arguments": {},
       "columnCustomDisplayInfos": {},
       "data": [
        [
         3,
         "Ali Daei",
         "�Iran",
         "AFC",
         "108",
         "148",
         null,
         "1993-2006",
         "9-Jan-00"
        ],
        [
         4,
         "Sunil Chhetri",
         "�India",
         "AFC",
         "94",
         "151",
         null,
         "2005-2024",
         "31-Dec-15"
        ],
        [
         5,
         "Mokhtar Dahari",
         "�Malaysia",
         "AFC",
         "89",
         "142",
         null,
         "1972-1985",
         "22-Aug-76"
        ],
        [
         6,
         "Ali Mabkhout",
         "�United Arab Emirates",
         "AFC",
         "85",
         "115",
         null,
         "2009-",
         "31-Aug-19"
        ],
        [
         12,
         "Hussein Saeed",
         "�Iraq",
         "AFC",
         "78",
         "137",
         null,
         "1977-1990",
         "17-Mar-84"
        ],
        [
         14,
         "Kunishige Kamamoto",
         "�Japan",
         "AFC",
         "75",
         "76",
         null,
         "1964-1977",
         "18-Jul-72"
        ],
        [
         14,
         "Bashar Abdullah",
         "�Kuwait",
         "AFC",
         "75",
         "134",
         null,
         "1996-2007",
         "25-Dec-02"
        ],
        [
         18,
         "Majed Abdullah",
         "�Saudi Arabia",
         "AFC",
         "72",
         "117",
         null,
         "1977-1994",
         "15-Apr-84"
        ],
        [
         19,
         "Kiatisuk Senamuang",
         "�Thailand",
         "AFC",
         "71",
         "134",
         null,
         "1993-2007",
         "23-Jan-01"
        ],
        [
         22,
         "Piyapong Pue-on",
         "�Thailand",
         "AFC",
         "70",
         "100",
         null,
         "1981-1997",
         "30-Jan-89"
        ],
        [
         22,
         "Abdul Kadir",
         "�Indonesia",
         "AFC",
         "70",
         "111",
         null,
         "1967-1979",
         "8-Aug-72"
        ],
        [
         33,
         "Teerasil Dangda",
         "�Thailand",
         "AFC",
         "64",
         "128",
         null,
         "2007-",
         "14-Dec-21"
        ],
        [
         34,
         "Jasem Al-Huwaidi",
         "�Kuwait",
         "AFC",
         "63",
         "83",
         null,
         "1992-2003",
         "30-Sep-00"
        ],
        [
         35,
         "Ahmed Radhi",
         "�Iraq",
         "AFC",
         "62",
         "121",
         null,
         "1982-1997",
         "18-Aug-92"
        ],
        [
         38,
         "Abdul Ghani Minhat",
         "�Malaya��Malaysia",
         "AFC",
         "61",
         "71",
         null,
         "1956-1966",
         "15-Dec-61"
        ],
        [
         39,
         "Almoez Ali",
         "�Qatar",
         "AFC",
         "59",
         "117",
         null,
         "2013-",
         "31-Dec-23"
        ],
        [
         44,
         "Ali Ashfaq",
         "�Maldives",
         "AFC",
         "58",
         "98",
         null,
         "2003-2023",
         "29-Mar-16"
        ],
        [
         44,
         "Cha Bum-kun",
         "�South Korea",
         "AFC",
         "58",
         "136",
         null,
         "1972-1986",
         "5-Sep-77"
        ],
        [
         47,
         "Younis Mahmoud",
         "�Iraq",
         "AFC",
         "57",
         "148",
         null,
         "2002-2016",
         "5-Mar-14"
        ],
        [
         52,
         "Bader Al-Mutawa",
         "�Kuwait",
         "AFC",
         "56",
         "196",
         null,
         "2003-2022",
         "3-Sep-15"
        ],
        [
         55,
         "Sardar Azmoun",
         "�Iran",
         "AFC",
         "55",
         "88",
         null,
         "2014-",
         "14-Jan-24"
        ],
        [
         55,
         "Kazuyoshi Miura",
         "�Japan",
         "AFC",
         "55",
         "89",
         null,
         "1990-2000",
         "7-Sep-97"
        ],
        [
         55,
         "Iswadi Idris",
         "�Indonesia",
         "AFC",
         "55",
         "97",
         null,
         "1968-1980",
         "19-Nov-77"
        ],
        [
         55,
         "Fandi Ahmad",
         "�Singapore",
         "AFC",
         "55",
         "101",
         null,
         "1979-1997",
         "16-Dec-95"
        ],
        [
         63,
         "Phil Younghusband",
         "�Philippines",
         "AFC",
         "52",
         "108",
         null,
         "2006-2019",
         "22-Mar-18"
        ],
        [
         63,
         "Yousef Nasser",
         "�Kuwait",
         "AFC",
         "52",
         "113",
         null,
         "2009-",
         "5-Sep-24"
        ],
        [
         63,
         "Adnan Al Talyani",
         "�United Arab Emirates",
         "AFC",
         "52",
         "161",
         null,
         "1983-1997",
         "19-Nov-96"
        ],
        [
         69,
         "L� C�ng Vinh",
         "�Vietnam",
         "AFC",
         "51",
         "83",
         null,
         "2004-2016",
         "20-Nov-16"
        ],
        [
         69,
         "Mehdi Taremi",
         "�Iran",
         "AFC",
         "51",
         "90",
         null,
         "2015-",
         "6-Jun-24"
        ],
        [
         76,
         "Karim Bagheri",
         "�Iran",
         "AFC",
         "50",
         "87",
         null,
         "1993-2010",
         "9-Jan-09"
        ],
        [
         76,
         "Hwang Sun-hong",
         "�South Korea",
         "AFC",
         "50",
         "103",
         null,
         "1988-2002",
         "4-Jun-02"
        ],
        [
         76,
         "Shinji Okazaki",
         "�Japan",
         "AFC",
         "50",
         "119",
         null,
         "2008-2019",
         "28-Mar-17"
        ],
        [
         76,
         "Zainal Abidin Hassan",
         "�Malaysia",
         "AFC",
         "50",
         "129",
         null,
         "1980-1997",
         "31-Mar-97"
        ],
        [
         76,
         "Son Heung-min",
         "�South Korea",
         "AFC",
         "50",
         "130",
         null,
         "2010-",
         "14-Nov-24"
        ]
       ],
       "datasetInfos": [],
       "dbfsResultPath": null,
       "isJsonSchema": true,
       "metadata": {},
       "overflow": false,
       "plotOptions": {
        "customPlotOptions": {},
        "displayType": "table",
        "pivotAggregation": null,
        "pivotColumns": null,
        "xColumns": null,
        "yColumns": null
       },
       "removedWidgets": [],
       "schema": [
        {
         "metadata": "{}",
         "name": "rank",
         "type": "\"integer\""
        },
        {
         "metadata": "{}",
         "name": "player",
         "type": "\"string\""
        },
        {
         "metadata": "{}",
         "name": "nation",
         "type": "\"string\""
        },
        {
         "metadata": "{}",
         "name": "Confederation",
         "type": "\"string\""
        },
        {
         "metadata": "{}",
         "name": "golas",
         "type": "\"string\""
        },
        {
         "metadata": "{}",
         "name": "caps",
         "type": "\"string\""
        },
        {
         "metadata": "{}",
         "name": "goals_per_match",
         "type": "\"integer\""
        },
        {
         "metadata": "{}",
         "name": "Career_span",
         "type": "\"string\""
        },
        {
         "metadata": "{}",
         "name": "Date_of_50th_goal",
         "type": "\"string\""
        }
       ],
       "type": "table"
      }
     },
     "output_type": "display_data"
    },
    {
     "output_type": "display_data",
     "data": {
      "text/html": [
       "<style scoped>\n",
       "  .table-result-container {\n",
       "    max-height: 300px;\n",
       "    overflow: auto;\n",
       "  }\n",
       "  table, th, td {\n",
       "    border: 1px solid black;\n",
       "    border-collapse: collapse;\n",
       "  }\n",
       "  th, td {\n",
       "    padding: 5px;\n",
       "  }\n",
       "  th {\n",
       "    text-align: left;\n",
       "  }\n",
       "</style><div class='table-result-container'><table class='table-result'><thead style='background-color: white'><tr><th>rank</th><th>player</th><th>nation</th><th>Confederation</th><th>golas</th><th>caps</th><th>goals_per_match</th><th>Career_span</th><th>Date_of_50th_goal</th></tr></thead><tbody><tr><td>6</td><td>Ali Mabkhout</td><td>�United Arab Emirates</td><td>AFC</td><td>85</td><td>115</td><td>null</td><td>2009-</td><td>31-Aug-19</td></tr><tr><td>6</td><td>Romelu Lukaku</td><td>�Belgium</td><td>UEFA</td><td>85</td><td>120</td><td>null</td><td>2010-</td><td>10-Oct-19</td></tr></tbody></table></div>"
      ]
     },
     "metadata": {
      "application/vnd.databricks.v1+output": {
       "addedWidgets": {},
       "aggData": [],
       "aggError": "",
       "aggOverflow": false,
       "aggSchema": [],
       "aggSeriesLimitReached": false,
       "aggType": "",
       "arguments": {},
       "columnCustomDisplayInfos": {},
       "data": [
        [
         6,
         "Ali Mabkhout",
         "�United Arab Emirates",
         "AFC",
         "85",
         "115",
         null,
         "2009-",
         "31-Aug-19"
        ],
        [
         6,
         "Romelu Lukaku",
         "�Belgium",
         "UEFA",
         "85",
         "120",
         null,
         "2010-",
         "10-Oct-19"
        ]
       ],
       "datasetInfos": [],
       "dbfsResultPath": null,
       "isJsonSchema": true,
       "metadata": {},
       "overflow": false,
       "plotOptions": {
        "customPlotOptions": {},
        "displayType": "table",
        "pivotAggregation": null,
        "pivotColumns": null,
        "xColumns": null,
        "yColumns": null
       },
       "removedWidgets": [],
       "schema": [
        {
         "metadata": "{}",
         "name": "rank",
         "type": "\"integer\""
        },
        {
         "metadata": "{}",
         "name": "player",
         "type": "\"string\""
        },
        {
         "metadata": "{}",
         "name": "nation",
         "type": "\"string\""
        },
        {
         "metadata": "{}",
         "name": "Confederation",
         "type": "\"string\""
        },
        {
         "metadata": "{}",
         "name": "golas",
         "type": "\"string\""
        },
        {
         "metadata": "{}",
         "name": "caps",
         "type": "\"string\""
        },
        {
         "metadata": "{}",
         "name": "goals_per_match",
         "type": "\"integer\""
        },
        {
         "metadata": "{}",
         "name": "Career_span",
         "type": "\"string\""
        },
        {
         "metadata": "{}",
         "name": "Date_of_50th_goal",
         "type": "\"string\""
        }
       ],
       "type": "table"
      }
     },
     "output_type": "display_data"
    }
   ],
   "source": [
    "df = spark.read.format(\"csv\").schema(my_ddl_schema).option(\"header\",True).options(mode=\"PERMISSIVE\").load('/FileStore/tables/kgds.csv')\n",
    "df.display()\n",
    "\n",
    "df_res = df.filter(df['Confederation'] ==\"AFC\")\n",
    "df_res2 = df.filter(\"golas=85\")\n",
    "\n",
    "df_res.display()\n",
    "df_res2.display()"
   ]
  },
  {
   "cell_type": "code",
   "execution_count": 0,
   "metadata": {
    "application/vnd.databricks.v1+cell": {
     "cellMetadata": {
      "byteLimit": 2048000,
      "rowLimit": 10000
     },
     "inputWidgets": {},
     "nuid": "1678bdfd-c4d0-4625-b0bc-e594ad190543",
     "showTitle": false,
     "tableResultSettingsMap": {},
     "title": ""
    }
   },
   "outputs": [
    {
     "output_type": "display_data",
     "data": {
      "text/html": [
       "<style scoped>\n",
       "  .table-result-container {\n",
       "    max-height: 300px;\n",
       "    overflow: auto;\n",
       "  }\n",
       "  table, th, td {\n",
       "    border: 1px solid black;\n",
       "    border-collapse: collapse;\n",
       "  }\n",
       "  th, td {\n",
       "    padding: 5px;\n",
       "  }\n",
       "  th {\n",
       "    text-align: left;\n",
       "  }\n",
       "</style><div class='table-result-container'><table class='table-result'><thead style='background-color: white'><tr><th>rank</th><th>player</th><th>nation</th><th>Confederation</th><th>golas</th><th>caps</th><th>goals_per_match</th><th>Career_span</th><th>Date_of_50th_goal</th></tr></thead><tbody><tr><td>4</td><td>Sunil Chhetri</td><td>�India</td><td>AFC</td><td>94</td><td>151</td><td>null</td><td>2005-2024</td><td>31-Dec-15</td></tr></tbody></table></div>"
      ]
     },
     "metadata": {
      "application/vnd.databricks.v1+output": {
       "addedWidgets": {},
       "aggData": [],
       "aggError": "",
       "aggOverflow": false,
       "aggSchema": [],
       "aggSeriesLimitReached": false,
       "aggType": "",
       "arguments": {},
       "columnCustomDisplayInfos": {},
       "data": [
        [
         4,
         "Sunil Chhetri",
         "�India",
         "AFC",
         "94",
         "151",
         null,
         "2005-2024",
         "31-Dec-15"
        ]
       ],
       "datasetInfos": [],
       "dbfsResultPath": null,
       "isJsonSchema": true,
       "metadata": {},
       "overflow": false,
       "plotOptions": {
        "customPlotOptions": {},
        "displayType": "table",
        "pivotAggregation": null,
        "pivotColumns": null,
        "xColumns": null,
        "yColumns": null
       },
       "removedWidgets": [],
       "schema": [
        {
         "metadata": "{}",
         "name": "rank",
         "type": "\"integer\""
        },
        {
         "metadata": "{}",
         "name": "player",
         "type": "\"string\""
        },
        {
         "metadata": "{}",
         "name": "nation",
         "type": "\"string\""
        },
        {
         "metadata": "{}",
         "name": "Confederation",
         "type": "\"string\""
        },
        {
         "metadata": "{}",
         "name": "golas",
         "type": "\"string\""
        },
        {
         "metadata": "{}",
         "name": "caps",
         "type": "\"string\""
        },
        {
         "metadata": "{}",
         "name": "goals_per_match",
         "type": "\"integer\""
        },
        {
         "metadata": "{}",
         "name": "Career_span",
         "type": "\"string\""
        },
        {
         "metadata": "{}",
         "name": "Date_of_50th_goal",
         "type": "\"string\""
        }
       ],
       "type": "table"
      }
     },
     "output_type": "display_data"
    }
   ],
   "source": [
    "# Reading spark data as SQL\n",
    "\n",
    "df_table = df.createOrReplaceTempView(\"Table\")\n",
    "\n",
    "df_new = spark.sql(\"\"\"\n",
    "          select * from table where nation like '%India%' and golas>90\n",
    "          \"\"\")\n",
    "\n",
    "df_new.display()\n"
   ]
  }
 ],
 "metadata": {
  "application/vnd.databricks.v1+notebook": {
   "dashboards": [],
   "environmentMetadata": null,
   "language": "python",
   "notebookMetadata": {
    "pythonIndentUnit": 4
   },
   "notebookName": "Spark_session8",
   "widgets": {}
  }
 },
 "nbformat": 4,
 "nbformat_minor": 0
}
