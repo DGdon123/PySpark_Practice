{
 "cells": [
  {
   "cell_type": "markdown",
   "metadata": {
    "application/vnd.databricks.v1+cell": {
     "cellMetadata": {},
     "inputWidgets": {},
     "nuid": "fd9a00cd-3a24-41d8-82a9-88e93a6be88b",
     "showTitle": false,
     "tableResultSettingsMap": {},
     "title": ""
    }
   },
   "source": [
    "##Running Sum"
   ]
  },
  {
   "cell_type": "code",
   "execution_count": 0,
   "metadata": {
    "application/vnd.databricks.v1+cell": {
     "cellMetadata": {
      "byteLimit": 2048000,
      "rowLimit": 10000
     },
     "inputWidgets": {},
     "nuid": "37f77d54-e914-47b1-87bb-42380aab4d9e",
     "showTitle": false,
     "tableResultSettingsMap": {},
     "title": ""
    }
   },
   "outputs": [
    {
     "output_type": "stream",
     "name": "stdout",
     "output_type": "stream",
     "text": [
      "+---+----+------+-----------+\n| id|name|amount|Running_Sum|\n+---+----+------+-----------+\n|  1|   A|   100|        100|\n|  2|   B|   200|        300|\n|  3|   C|   300|        600|\n|  4|   D|   400|       1000|\n|  5|   E|   500|       1500|\n+---+----+------+-----------+\n\n"
     ]
    }
   ],
   "source": [
    "from pyspark.sql import SparkSession\n",
    "from pyspark.sql.window import Window\n",
    "from pyspark.sql.functions import col, sum\n",
    "\n",
    "# Initialize Spark Session\n",
    "spark = SparkSession.builder \\\n",
    "    .appName(\"Running Sum Example\") \\\n",
    "    .getOrCreate()\n",
    "\n",
    "# Sample Data\n",
    "data = [\n",
    "    (1, \"A\", 100),\n",
    "    (2, \"B\", 200),\n",
    "    (3, \"C\", 300),\n",
    "    (4, \"D\", 400),\n",
    "    (5, \"E\", 500)\n",
    "]\n",
    "\n",
    "# Define Schema and Create DataFrame\n",
    "columns = [\"id\", \"name\", \"amount\"]\n",
    "df = spark.createDataFrame(data, columns)\n",
    "\n",
    "# Define the Window Specification\n",
    "window_spec = Window.orderBy(\"id\")\n",
    "\n",
    "# Calculate the Running Sum\n",
    "running_sum_df = df.withColumn(\"Running_Sum\", sum(\"amount\").over(window_spec))\n",
    "\n",
    "# Show the Result\n",
    "running_sum_df.show()"
   ]
  }
 ],
 "metadata": {
  "application/vnd.databricks.v1+notebook": {
   "computePreferences": null,
   "dashboards": [],
   "environmentMetadata": null,
   "language": "python",
   "notebookMetadata": {
    "pythonIndentUnit": 4
   },
   "notebookName": "Running Sum",
   "widgets": {}
  }
 },
 "nbformat": 4,
 "nbformat_minor": 0
}
